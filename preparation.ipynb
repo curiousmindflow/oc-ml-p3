{
 "cells": [
  {
   "cell_type": "markdown",
   "metadata": {
    "jp-MarkdownHeadingCollapsed": true,
    "tags": []
   },
   "source": [
    "# 0 Configuration"
   ]
  },
  {
   "cell_type": "code",
   "execution_count": null,
   "metadata": {},
   "outputs": [],
   "source": [
    "config = {\n",
    "    \"overview\": {\n",
    "        \"overview_plot\": False\n",
    "    },\n",
    "    \"cleaning\": {\n",
    "        \"emptyness\": {\n",
    "            \"overview_plot\": False,\n",
    "            \"remove_empty\": True\n",
    "        },\n",
    "        \"types\": {\n",
    "            \"convert\": True\n",
    "        },\n",
    "        \"categoricals\": {\n",
    "            \"overview_plot\": False,\n",
    "            \"usability\": {\n",
    "                \"remove\": True\n",
    "            },\n",
    "            \"inconsistencies\": {\n",
    "                \"strip_and_lower\": True\n",
    "            }\n",
    "        },\n",
    "        \"numericals\": {\n",
    "            \"overview_plot\": False,\n",
    "            \"usability\": {\n",
    "                \"remove\": True\n",
    "            },\n",
    "            \"redundancy\": {\n",
    "                \"overview_plot\": False,\n",
    "                \"distrib_corr_plot\": False,\n",
    "                \"remove\": True\n",
    "            },\n",
    "            \"outliers\": {\n",
    "                \"remove\": False,\n",
    "                \"iqr_remove\": False,\n",
    "                \"supplied_remove\": True,\n",
    "                \"plot\": False,\n",
    "            },\n",
    "            \"scaling\": {\n",
    "                \"distrib_plot_pre\": False,\n",
    "                \"scale\": True,\n",
    "                \"distrib_plot_post\": False,\n",
    "            }\n",
    "        }\n",
    "    },\n",
    "    \"correlations\": {\n",
    "        \"numericals\": {\n",
    "            \"overview_heatmap_plot\": True,\n",
    "            \"removing\": False,\n",
    "            \"result_heatmap_plot\": True\n",
    "        },\n",
    "        \"categoricals\": {\n",
    "            \"labelisation\": True,\n",
    "            \"overview_heatmap_plot\": True,\n",
    "            \"removing\": False,\n",
    "            \"result_heatmap_plot\": True\n",
    "        }\n",
    "    },\n",
    "    \"final\": {\n",
    "        \"overview_plot\": False\n",
    "    }\n",
    "}"
   ]
  },
  {
   "cell_type": "markdown",
   "metadata": {
    "jp-MarkdownHeadingCollapsed": true,
    "tags": []
   },
   "source": [
    "***\n",
    "# 1 Dependency import"
   ]
  },
  {
   "cell_type": "code",
   "execution_count": null,
   "metadata": {},
   "outputs": [],
   "source": [
    "import numpy as np\n",
    "import pandas as pd\n",
    "import matplotlib.pyplot as plt\n",
    "import seaborn as sns\n",
    "\n",
    "from fuzzywuzzy import process\n",
    "import chardet\n",
    "\n",
    "from math import ceil\n",
    "\n",
    "from sklearn.preprocessing import minmax_scale\n",
    "\n",
    "pd.set_option(\"display.max_columns\", None)\n",
    "pd.set_option(\"display.max_rows\", None)\n",
    "\n",
    "np.random.seed(0)"
   ]
  },
  {
   "cell_type": "code",
   "execution_count": null,
   "metadata": {},
   "outputs": [],
   "source": [
    "def dataframe_distribution_overview(data, figsize=(10, 3)):\n",
    "    plt.figure(figsize=figsize)\n",
    "\n",
    "    sns.barplot(x=data.columns, y=data.count())\n",
    "\n",
    "    plt.title(\"Number of values per column\", size=20)\n",
    "    plt.xticks(rotation=45, size=16, ha=\"right\")\n",
    "    plt.yticks(size=16)\n",
    "    plt.ylabel(\"Number values\", size=16)\n",
    "    plt.show()"
   ]
  },
  {
   "cell_type": "code",
   "execution_count": null,
   "metadata": {},
   "outputs": [],
   "source": [
    "def index_lth(data, percentage: int):\n",
    "    percentage = percentage / 100\n",
    "    less_than = data.count() < data.shape[0] * percentage\n",
    "    index_less_than = less_than[less_than == True].index\n",
    "    return index_less_than"
   ]
  },
  {
   "cell_type": "code",
   "execution_count": null,
   "metadata": {},
   "outputs": [],
   "source": [
    "def multi_plot_numerical(data, features, kind=\"hist\", n_cols=8, figsize=(30, 10), wspace=0.35, hspace=0.35):\n",
    "    feature_nb = len(features)\n",
    "    n_rows = ceil(feature_nb / n_cols)\n",
    "    index = 0\n",
    "\n",
    "    plt.subplots(n_rows, n_cols, figsize=figsize)\n",
    "    plt.subplots_adjust(wspace=wspace, hspace=hspace)\n",
    "\n",
    "    for r in range(n_rows):\n",
    "        for c in range(n_cols):\n",
    "            if index >= feature_nb:\n",
    "                break\n",
    "\n",
    "            plt.subplot(n_rows, n_cols, index+1)\n",
    "\n",
    "            feature = features[index]\n",
    "\n",
    "            if kind == \"box\":\n",
    "                plot = sns.boxplot(y=data[feature])\n",
    "            elif kind == \"hist\":\n",
    "                plot = sns.histplot(data=data[feature], kde=True)\n",
    "            else:\n",
    "                plot = sns.histplot(data=data[feature], kde=True)\n",
    "\n",
    "            plot.set_xlabel(feature, fontsize=12)\n",
    "            plot.set_ylabel(None)\n",
    "\n",
    "            index += 1\n",
    "\n",
    "    plt.show()"
   ]
  },
  {
   "cell_type": "code",
   "execution_count": null,
   "metadata": {},
   "outputs": [],
   "source": [
    "def create_subplot(dataset, feature, n_rows, index, is_numeric):\n",
    "    plt.subplot(n_rows, 2, index)\n",
    "    uniques = dataset[feature].unique()\n",
    "\n",
    "    if is_numeric:\n",
    "        plot = sns.boxplot(y=dataset[feature])\n",
    "    else:\n",
    "        if uniques.size <= 20 and uniques.size > 0:\n",
    "            plot = sns.countplot(x=dataset[feature])\n",
    "            plt.xticks(rotation=45, size=8, ha=\"right\")\n",
    "        else:\n",
    "            dist = pd.DataFrame(data=[[uniques.size, dataset.shape[0] - uniques.size]], columns=[\"uniques\", \"not_uniques\"])\n",
    "            plot = sns.barplot(data=dist)\n",
    "\n",
    "    plot.set_xlabel(None)\n",
    "    plot.set_ylabel(feature, fontsize=14)\n",
    "\n",
    "\n",
    "def dataset_diff_analysis(data1, data2, exclude=[], figsize=(15, 200)):\n",
    "    features = data1.columns.union(data2.columns).difference(exclude)\n",
    "    n_cols = 2\n",
    "    n_rows = len(features)\n",
    "    col_id = 0\n",
    "    index = 1\n",
    "\n",
    "    plt.subplots(n_rows, n_cols, figsize=figsize)\n",
    "    plt.subplots_adjust(wspace=0.35, hspace=0.5)\n",
    "\n",
    "    for f in features:\n",
    "        is_numeric = False\n",
    "        if f in data1.columns:\n",
    "            f_type = data1[f].dtype\n",
    "        else:\n",
    "            f_type = data2[f].dtype\n",
    "        if f_type in [\"int64\", \"float64\"]:\n",
    "            is_numeric = True\n",
    "\n",
    "        if f in data1.columns.values:\n",
    "            create_subplot(data1, f, n_rows, index, is_numeric)\n",
    "        if f in data2.columns.values:\n",
    "            create_subplot(data2, f, n_rows, index+1, is_numeric)\n",
    "\n",
    "        index += 2\n",
    "\n",
    "    print(f\"features: {features}\")\n",
    "    plt.show()"
   ]
  },
  {
   "cell_type": "code",
   "execution_count": null,
   "metadata": {},
   "outputs": [],
   "source": [
    "def decribe_several(feature, *df):\n",
    "    data = {}\n",
    "    index = 1\n",
    "    for d in df:\n",
    "        data[feature + \"_\" + str(index)] = d[feature]\n",
    "        index += 1\n",
    "    final_dataframe = pd.DataFrame(data)\n",
    "    return final_dataframe.describe()"
   ]
  },
  {
   "cell_type": "code",
   "execution_count": null,
   "metadata": {},
   "outputs": [],
   "source": [
    "def head_several(feature, nb, *df):\n",
    "    data = {}\n",
    "    index = 1\n",
    "    for d in df:\n",
    "        data[feature + \"_\" + str(index)] = d[feature]\n",
    "        index += 1\n",
    "    final_dataframe = pd.DataFrame(data)\n",
    "    return final_dataframe.head(nb)"
   ]
  },
  {
   "cell_type": "code",
   "execution_count": null,
   "metadata": {},
   "outputs": [],
   "source": [
    "class OutlierProcessor():\n",
    "    def __init__(self, data, features, lower_trig, upper_trig):\n",
    "        self.data = data\n",
    "        self.features = features\n",
    "        self.lower_trig = lower_trig\n",
    "        self.upper_trig = upper_trig\n",
    "        self.__above = 0\n",
    "        self.__below = 0\n",
    "        self.__total = 0\n",
    "\n",
    "    def __print(self):\n",
    "        print(f\"lower_trig: {self.lower_trig}\")\n",
    "        print(f\"upper_trig: {self.upper_trig}\")\n",
    "        print(f\"below: {self.__below}\")\n",
    "        print(f\"above: {self.__above}\")\n",
    "        print(f\"total: {self.__total}\")\n",
    "\n",
    "    def analyse(self):\n",
    "        self.__below = self.data[self.data[self.features] < self.lower_trig][self.features].count()\n",
    "        self.__above = self.data[self.data[self.features] > self.upper_trig][self.features].count()\n",
    "        self.__total = self.__below + self.__above\n",
    "        self.__print()\n",
    "\n",
    "    def replace(self, replace_by=np.nan, inplace=False):\n",
    "        result = self.data.loc[:, self.features].where(cond=lambda x: ((x > self.lower_trig) & (self.upper_trig > x)), other=replace_by)\n",
    "        if inplace:\n",
    "            self.data[self.features] = result\n",
    "        else:\n",
    "            return result\n",
    "\n"
   ]
  },
  {
   "cell_type": "code",
   "execution_count": null,
   "metadata": {},
   "outputs": [],
   "source": [
    "class OutlierIqrProcessor(OutlierProcessor):\n",
    "    def __init__(self, data, features, exclude=None):\n",
    "        self.features = [feature for feature in features if feature not in exclude]\n",
    "        self.__q1 = data[self.features].quantile(0.25)\n",
    "        self.__q3 = data[self.features].quantile(0.75)\n",
    "        self.__iqr = self.__q3 - self.__q1\n",
    "        upper_trig = self.__q3 + (1.5 * self.__iqr)\n",
    "        lower_trig = self.__q1 - (1.5 * self.__iqr)\n",
    "        super().__init__(data, self.features, lower_trig, upper_trig)\n"
   ]
  },
  {
   "cell_type": "code",
   "execution_count": null,
   "metadata": {},
   "outputs": [],
   "source": [
    "def correlation_heatmap(dataset, figsize=(30, 20)):\n",
    "    plt.figure(figsize=figsize)\n",
    "\n",
    "    correlation = dataset.corr()\n",
    "    mask = np.triu(np.ones_like(correlation, dtype=bool))\n",
    "\n",
    "    sns.heatmap(data=correlation, mask=mask, annot=True, vmax=.75, center=0,\n",
    "                square=True, linewidths=.5, cbar_kws={\"shrink\": .5})\n",
    "\n",
    "    plt.title(\"Correlation heatmap\", size=20)\n",
    "    plt.xticks(rotation=45, size=16, ha=\"right\")\n",
    "    plt.yticks(size=16)\n",
    "    plt.show()"
   ]
  },
  {
   "cell_type": "code",
   "execution_count": null,
   "metadata": {},
   "outputs": [],
   "source": [
    "def unique_several(dataset, features, take=20):\n",
    "    uniques_data = {}\n",
    "    too_many_uniques = []\n",
    "    only_one_uniques = []\n",
    "    only_two_uniques = []\n",
    "\n",
    "    for f in features:\n",
    "        f_uniques = dataset[f].unique()\n",
    "        if f_uniques.size <= take:\n",
    "            if f_uniques.size == 1:\n",
    "                only_one_uniques.append(f)\n",
    "            elif f_uniques.size == 2:\n",
    "                only_two_uniques.append(f)\n",
    "            else:\n",
    "                uniques_data[f] = pd.Series(data=f_uniques, name=f, dtype=\"object\")\n",
    "        else:\n",
    "            too_many_uniques.append((f, f_uniques.size))\n",
    "\n",
    "    print(f\"Only one unique: {only_one_uniques}\")\n",
    "    print(f\"Only two uniques: {only_two_uniques}\")\n",
    "    print(f\"Too many uniques: {too_many_uniques}\")\n",
    "\n",
    "    return pd.DataFrame(data=uniques_data)"
   ]
  },
  {
   "cell_type": "code",
   "execution_count": null,
   "metadata": {},
   "outputs": [],
   "source": [
    "def strip_and_lower(dataset, features, to_strip=None, inplace=False):\n",
    "    result_data = {}\n",
    "    for f in features:\n",
    "        result_data[f] = pd.Series(data=dataset[f].str.strip(to_strip=to_strip), name=f, dtype=\"object\")\n",
    "        result_data[f] = result_data[f].str.lower()\n",
    "    result = pd.DataFrame(data=result_data)\n",
    "    if inplace:\n",
    "        dataset[features] = result\n",
    "    else:\n",
    "        return result"
   ]
  },
  {
   "cell_type": "code",
   "execution_count": null,
   "metadata": {},
   "outputs": [],
   "source": [
    "def fuzzy_matching_several(dataset, fuzzy, limit=10):\n",
    "    fuzzy_data = {}\n",
    "    for feature, match in fuzzy:\n",
    "        fuzzy_matches = fuzzywuzzy.process.extract(match, dataset[feature], limit=limit, scorer=fuzzywuzzy.fuzz.token_sort_ratio)\n",
    "        fuzzy_data[feature] = pd.Series(data=fuzzy_matches, name=feature, dtype=\"object\")\n",
    "    return pd.DataFrame(data=fuzzy_data)"
   ]
  },
  {
   "cell_type": "code",
   "execution_count": null,
   "metadata": {},
   "outputs": [],
   "source": [
    "def feature_distribution_multivar(data, features, figsize=(10, 3), wspace=0.2, hspace=0.2, corr_scale=(0.75, 0), xlim=(None, None), ylim=(None, None)):\n",
    "    plt.subplots(1, 2, figsize=figsize)\n",
    "    plt.subplots_adjust(wspace=wspace, hspace=hspace)\n",
    "\n",
    "    plt.subplot(1, 2, 1)\n",
    "    for f in features:\n",
    "        plot = sns.kdeplot(data=data[f], label=f, shade=True)\n",
    "\n",
    "    plt.title(f\"Distribution\", size=20)\n",
    "    plt.xticks(size=16)\n",
    "    plt.yticks(size=16)\n",
    "    plt.xlim(xlim[0], xlim[1])\n",
    "    plt.ylim(ylim[0], ylim[1])\n",
    "    plt.xlabel(None)\n",
    "    plt.ylabel(\"Density\", size=16)\n",
    "    plt.legend()\n",
    "\n",
    "    plt.subplot(1, 2, 2)\n",
    "    correlation = data.loc[:, features].corr()\n",
    "    mask = np.triu(np.ones_like(correlation, dtype=bool))\n",
    "\n",
    "    sns.heatmap(data=correlation, mask=mask, annot=True, vmax=corr_scale[0], center=corr_scale[1],\n",
    "                square=True, linewidths=.5, cbar_kws={\"shrink\": .5})\n",
    "\n",
    "    plt.title(f\"Correlation\", size=20)\n",
    "    plt.xticks(rotation=45, size=12, ha=\"right\")\n",
    "    plt.yticks(rotation=0, size=12, va=\"center\")\n",
    "    \n",
    "    plt.show()\n"
   ]
  },
  {
   "cell_type": "markdown",
   "metadata": {
    "jp-MarkdownHeadingCollapsed": true,
    "tags": []
   },
   "source": [
    "***\n",
    "# 2 Data loading"
   ]
  },
  {
   "cell_type": "code",
   "execution_count": null,
   "metadata": {},
   "outputs": [],
   "source": [
    "data = pd.read_csv(\"data/2016-building-energy-benchmarking.csv\", delimiter=\",\")"
   ]
  },
  {
   "cell_type": "markdown",
   "metadata": {
    "jp-MarkdownHeadingCollapsed": true,
    "tags": []
   },
   "source": [
    "***\n",
    "# 3 Overview"
   ]
  },
  {
   "cell_type": "code",
   "execution_count": null,
   "metadata": {},
   "outputs": [],
   "source": [
    "if config[\"overview\"][\"overview_plot\"]:\n",
    "    dataframe_distribution_overview(data, figsize=(30, 3))"
   ]
  },
  {
   "cell_type": "code",
   "execution_count": null,
   "metadata": {},
   "outputs": [],
   "source": [
    "targets = [\"SiteEnergyUse(kBtu)\", \"GHGEmissionsIntensity\"]"
   ]
  },
  {
   "cell_type": "markdown",
   "metadata": {
    "jp-MarkdownHeadingCollapsed": true,
    "tags": []
   },
   "source": [
    "***\n",
    "# 4 Cleaning"
   ]
  },
  {
   "cell_type": "markdown",
   "metadata": {},
   "source": [
    "***\n",
    "## 4.1 Emptyness"
   ]
  },
  {
   "cell_type": "code",
   "execution_count": null,
   "metadata": {},
   "outputs": [],
   "source": [
    "cols_to_remove = index_lth(data, 10).difference([\"Outlier\"])"
   ]
  },
  {
   "cell_type": "code",
   "execution_count": null,
   "metadata": {},
   "outputs": [],
   "source": [
    "if config[\"cleaning\"][\"emptyness\"][\"remove_empty\"]:\n",
    "    data.drop(columns=cols_to_remove, inplace=True)"
   ]
  },
  {
   "cell_type": "code",
   "execution_count": null,
   "metadata": {},
   "outputs": [],
   "source": [
    "if config[\"cleaning\"][\"emptyness\"][\"overview_plot\"]:\n",
    "    dataframe_distribution_overview(data, figsize=(30, 3))"
   ]
  },
  {
   "cell_type": "markdown",
   "metadata": {},
   "source": [
    "***\n",
    "## 4.2 Types"
   ]
  },
  {
   "cell_type": "code",
   "execution_count": null,
   "metadata": {},
   "outputs": [],
   "source": [
    "data.describe(include=\"object\")"
   ]
  },
  {
   "cell_type": "code",
   "execution_count": null,
   "metadata": {},
   "outputs": [],
   "source": [
    "data.describe()"
   ]
  },
  {
   "cell_type": "code",
   "execution_count": null,
   "metadata": {},
   "outputs": [],
   "source": [
    "if config[\"cleaning\"][\"types\"][\"convert\"]:\n",
    "    data[\"TaxParcelIdentificationNumber\"] = pd.to_numeric(data[\"TaxParcelIdentificationNumber\"], errors=\"coerce\")\n",
    "    data[\"TaxParcelIdentificationNumber\"].describe()"
   ]
  },
  {
   "cell_type": "markdown",
   "metadata": {},
   "source": [
    "***\n",
    "## 4.3 Categoricals"
   ]
  },
  {
   "cell_type": "markdown",
   "metadata": {},
   "source": [
    "### 4.3.1 Overview"
   ]
  },
  {
   "cell_type": "code",
   "execution_count": null,
   "metadata": {},
   "outputs": [],
   "source": [
    "categorical_data = data.select_dtypes(\"object\").columns"
   ]
  },
  {
   "cell_type": "code",
   "execution_count": null,
   "metadata": {},
   "outputs": [],
   "source": [
    "data[categorical_data].describe()"
   ]
  },
  {
   "cell_type": "markdown",
   "metadata": {},
   "source": [
    "***\n",
    "### 4.3.2 Usability"
   ]
  },
  {
   "cell_type": "markdown",
   "metadata": {},
   "source": [
    "The features \"City\" and \"State\" are always the same. They bring no usefull information."
   ]
  },
  {
   "cell_type": "code",
   "execution_count": null,
   "metadata": {},
   "outputs": [],
   "source": [
    "if config[\"cleaning\"][\"categoricals\"][\"usability\"][\"remove\"]:\n",
    "    features_to_delete = [\"City\", \"State\"]\n",
    "    data.drop(columns=features_to_delete, inplace=True)\n",
    "    categorical_data = categorical_data.drop(features_to_delete)"
   ]
  },
  {
   "cell_type": "markdown",
   "metadata": {},
   "source": [
    "***\n",
    "### 4.3.3 Inconsistencies"
   ]
  },
  {
   "cell_type": "code",
   "execution_count": null,
   "metadata": {},
   "outputs": [],
   "source": [
    "unique_several(data, categorical_data, take=50)"
   ]
  },
  {
   "cell_type": "code",
   "execution_count": null,
   "metadata": {},
   "outputs": [],
   "source": [
    "if config[\"cleaning\"][\"categoricals\"][\"inconsistencies\"][\"strip_and_lower\"]:\n",
    "    strip_and_lower(data, categorical_data, inplace=True)\n",
    "    unique_several(data, categorical_data, take=50)"
   ]
  },
  {
   "cell_type": "code",
   "execution_count": null,
   "metadata": {},
   "outputs": [],
   "source": [
    "# fuzzy = [\n",
    "#     (\"Neighborhood_2016\", \"Ballard\"),\n",
    "# ]\n",
    "# fuzzy_matching_several(data)"
   ]
  },
  {
   "cell_type": "markdown",
   "metadata": {},
   "source": [
    "***\n",
    "## 4.4 Numericals"
   ]
  },
  {
   "cell_type": "markdown",
   "metadata": {},
   "source": [
    "### 4.4.1 Overview"
   ]
  },
  {
   "cell_type": "code",
   "execution_count": null,
   "metadata": {},
   "outputs": [],
   "source": [
    "numerical_data = data.select_dtypes([\"int64\", \"float64\"]).columns"
   ]
  },
  {
   "cell_type": "code",
   "execution_count": null,
   "metadata": {},
   "outputs": [],
   "source": [
    "data[numerical_data].describe()"
   ]
  },
  {
   "cell_type": "code",
   "execution_count": null,
   "metadata": {},
   "outputs": [],
   "source": [
    "if config[\"cleaning\"][\"numericals\"][\"overview_plot\"]:\n",
    "    multi_plot_numerical(data, numerical_data, kind=\"box\", n_cols=6, hspace=0.4, wspace=0.30, figsize=(30, 25))"
   ]
  },
  {
   "cell_type": "markdown",
   "metadata": {},
   "source": [
    "***\n",
    "### 4.4.2 Usability"
   ]
  },
  {
   "cell_type": "code",
   "execution_count": null,
   "metadata": {},
   "outputs": [],
   "source": [
    "data[numerical_data].describe()"
   ]
  },
  {
   "cell_type": "code",
   "execution_count": null,
   "metadata": {},
   "outputs": [],
   "source": [
    "if config[\"cleaning\"][\"numericals\"][\"usability\"][\"remove\"]:\n",
    "    features_to_delete = [\"DataYear\"]\n",
    "    data.drop(columns=features_to_delete, inplace=True)\n",
    "    numerical_data = numerical_data.drop(features_to_delete)"
   ]
  },
  {
   "cell_type": "markdown",
   "metadata": {},
   "source": [
    "***\n",
    "### 4.4.2 Redundancy"
   ]
  },
  {
   "cell_type": "code",
   "execution_count": null,
   "metadata": {},
   "outputs": [],
   "source": [
    "if config[\"cleaning\"][\"numericals\"][\"redundancy\"][\"overview_plot\"]:\n",
    "    dataframe_distribution_overview(data[numerical_data], figsize=(25, 3))"
   ]
  },
  {
   "cell_type": "markdown",
   "metadata": {},
   "source": [
    "***\n",
    "#### 4.4.2.1 SiteEUI(kBtu/sf), SiteEUIWN(kBtu/sf)"
   ]
  },
  {
   "cell_type": "code",
   "execution_count": null,
   "metadata": {},
   "outputs": [],
   "source": [
    "features = [\"SiteEUI(kBtu/sf)\", \"SiteEUIWN(kBtu/sf)\"]"
   ]
  },
  {
   "cell_type": "code",
   "execution_count": null,
   "metadata": {},
   "outputs": [],
   "source": [
    "if config[\"cleaning\"][\"numericals\"][\"redundancy\"][\"distrib_corr_plot\"]:\n",
    "    feature_distribution_multivar(data, features, figsize=(15, 5), hspace=0.2, wspace=0.75, corr_scale=(1, 0), xlim=(-50, 300))"
   ]
  },
  {
   "cell_type": "code",
   "execution_count": null,
   "metadata": {},
   "outputs": [],
   "source": [
    "if config[\"cleaning\"][\"numericals\"][\"redundancy\"][\"remove\"]:\n",
    "    features_to_delete = [\"SiteEUIWN(kBtu/sf)\"]\n",
    "    data.drop(columns=features_to_delete, inplace=True)\n",
    "    numerical_data = numerical_data.drop(features_to_delete)"
   ]
  },
  {
   "cell_type": "markdown",
   "metadata": {},
   "source": [
    "***\n",
    "#### 4.4.2.2 SourceEUI(kBtu/sf), SourceEUIWN(kBtu/sf)"
   ]
  },
  {
   "cell_type": "code",
   "execution_count": null,
   "metadata": {},
   "outputs": [],
   "source": [
    "features = [\"SourceEUI(kBtu/sf)\", \"SourceEUIWN(kBtu/sf)\"]"
   ]
  },
  {
   "cell_type": "code",
   "execution_count": null,
   "metadata": {},
   "outputs": [],
   "source": [
    "if config[\"cleaning\"][\"numericals\"][\"redundancy\"][\"distrib_corr_plot\"]:\n",
    "    feature_distribution_multivar(data, features, figsize=(15, 5), hspace=0.2, wspace=0.75, corr_scale=(1, 0), xlim=(-100, 800))"
   ]
  },
  {
   "cell_type": "code",
   "execution_count": null,
   "metadata": {},
   "outputs": [],
   "source": [
    "if config[\"cleaning\"][\"numericals\"][\"redundancy\"][\"remove\"]:\n",
    "    features_to_delete = [\"SourceEUIWN(kBtu/sf)\"]\n",
    "    data.drop(columns=features_to_delete, inplace=True)\n",
    "    numerical_data = numerical_data.drop(features_to_delete)"
   ]
  },
  {
   "cell_type": "markdown",
   "metadata": {},
   "source": [
    "***\n",
    "#### 4.4.2.3 SiteEnergyUse(kBtu), SiteEnergyUseWN(kBtu)"
   ]
  },
  {
   "cell_type": "code",
   "execution_count": null,
   "metadata": {},
   "outputs": [],
   "source": [
    "features = [\"SiteEnergyUse(kBtu)\", \"SiteEnergyUseWN(kBtu)\"]"
   ]
  },
  {
   "cell_type": "code",
   "execution_count": null,
   "metadata": {},
   "outputs": [],
   "source": [
    "if config[\"cleaning\"][\"numericals\"][\"redundancy\"][\"distrib_corr_plot\"]:\n",
    "    feature_distribution_multivar(data, features, figsize=(15, 5), hspace=0.2, wspace=0.75, corr_scale=(1, 0), xlim=(-0.15e8, 0.35e8))"
   ]
  },
  {
   "cell_type": "code",
   "execution_count": null,
   "metadata": {},
   "outputs": [],
   "source": [
    "if config[\"cleaning\"][\"numericals\"][\"redundancy\"][\"remove\"]:\n",
    "    features_to_delete = [\"SiteEnergyUseWN(kBtu)\"]\n",
    "    data.drop(columns=features_to_delete, inplace=True)\n",
    "    numerical_data = numerical_data.drop(features_to_delete)"
   ]
  },
  {
   "cell_type": "markdown",
   "metadata": {},
   "source": [
    "***\n",
    "#### 4.4.2.4 Electricity(kWh), Electricity(kBtu)"
   ]
  },
  {
   "cell_type": "code",
   "execution_count": null,
   "metadata": {},
   "outputs": [],
   "source": [
    "features = [\"Electricity(kWh)\", \"Electricity(kBtu)\"]"
   ]
  },
  {
   "cell_type": "code",
   "execution_count": null,
   "metadata": {},
   "outputs": [],
   "source": [
    "if config[\"cleaning\"][\"numericals\"][\"redundancy\"][\"distrib_corr_plot\"]:\n",
    "    feature_distribution_multivar(data, features, figsize=(15, 5), hspace=0.2, wspace=0.75, corr_scale=(1, 0), xlim=(-1e7, 1.5e7))"
   ]
  },
  {
   "cell_type": "code",
   "execution_count": null,
   "metadata": {},
   "outputs": [],
   "source": [
    "if config[\"cleaning\"][\"numericals\"][\"redundancy\"][\"remove\"]:\n",
    "    features_to_delete = [\"Electricity(kBtu)\"]\n",
    "    data.drop(columns=features_to_delete, inplace=True)\n",
    "    numerical_data = numerical_data.drop(features_to_delete)"
   ]
  },
  {
   "cell_type": "markdown",
   "metadata": {},
   "source": [
    "***\n",
    "#### 4.4.2.5 NaturalGas(therms), NaturalGas(kBtu)"
   ]
  },
  {
   "cell_type": "code",
   "execution_count": null,
   "metadata": {},
   "outputs": [],
   "source": [
    "features = [\"NaturalGas(therms)\", \"NaturalGas(kBtu)\"]"
   ]
  },
  {
   "cell_type": "code",
   "execution_count": null,
   "metadata": {},
   "outputs": [],
   "source": [
    "if config[\"cleaning\"][\"numericals\"][\"redundancy\"][\"distrib_corr_plot\"]:\n",
    "    feature_distribution_multivar(data, features, figsize=(15, 5), hspace=0.2, wspace=0.75, corr_scale=(1, 0), xlim=(-2, 5))"
   ]
  },
  {
   "cell_type": "code",
   "execution_count": null,
   "metadata": {},
   "outputs": [],
   "source": [
    "data[features].describe()"
   ]
  },
  {
   "cell_type": "code",
   "execution_count": null,
   "metadata": {},
   "outputs": [],
   "source": [
    "if config[\"cleaning\"][\"numericals\"][\"redundancy\"][\"remove\"]:\n",
    "    features_to_delete = [\"NaturalGas(therms)\"]\n",
    "    data.drop(columns=features_to_delete, inplace=True)\n",
    "    numerical_data = numerical_data.drop(features_to_delete)"
   ]
  },
  {
   "cell_type": "markdown",
   "metadata": {},
   "source": [
    "***\n",
    "### 4.3.2 Outliers removal"
   ]
  },
  {
   "cell_type": "code",
   "execution_count": null,
   "metadata": {},
   "outputs": [],
   "source": [
    "data[numerical_data].describe()"
   ]
  },
  {
   "cell_type": "code",
   "execution_count": null,
   "metadata": {},
   "outputs": [],
   "source": [
    "values = data[numerical_data].idxmax().value_counts()\n",
    "data.loc[values[values > 3].index]"
   ]
  },
  {
   "cell_type": "code",
   "execution_count": null,
   "metadata": {},
   "outputs": [],
   "source": [
    "if config[\"cleaning\"][\"numericals\"][\"outliers\"][\"remove\"]:\n",
    "    data.drop(index=values[values > 3].index, inplace=True)"
   ]
  },
  {
   "cell_type": "code",
   "execution_count": null,
   "metadata": {},
   "outputs": [],
   "source": [
    "if config[\"cleaning\"][\"numericals\"][\"outliers\"][\"iqr_remove\"]:\n",
    "    o_proc = OutlierIqrProcessor(data, numerical_data, exclude=[\"Latitude\", \"Longitude\"])\n",
    "    temp = o_proc.replace(inplace=True)\n"
   ]
  },
  {
   "cell_type": "code",
   "execution_count": null,
   "metadata": {},
   "outputs": [],
   "source": [
    "if config[\"cleaning\"][\"numericals\"][\"outliers\"][\"supplied_remove\"]:\n",
    "    outliers_index = data[data[\"Outlier\"].notna()].index\n",
    "    data.drop(index=outliers_index, inplace=True)\n",
    "\n",
    "features_to_delete = [\"Outlier\"]\n",
    "data.drop(columns=features_to_delete, inplace=True)\n",
    "categorical_data = categorical_data.drop(features_to_delete)"
   ]
  },
  {
   "cell_type": "code",
   "execution_count": null,
   "metadata": {},
   "outputs": [],
   "source": [
    "if config[\"cleaning\"][\"numericals\"][\"outliers\"][\"plot\"]:\n",
    "    multi_plot_numerical(data, numerical_data, kind=\"box\", n_cols=6, hspace=0.4, wspace=0.30, figsize=(30, 25))"
   ]
  },
  {
   "cell_type": "markdown",
   "metadata": {},
   "source": [
    "***\n",
    "### 4.3.3 Scaling"
   ]
  },
  {
   "cell_type": "code",
   "execution_count": null,
   "metadata": {},
   "outputs": [],
   "source": [
    "if config[\"cleaning\"][\"numericals\"][\"scaling\"][\"distrib_plot_pre\"]:\n",
    "    multi_plot_numerical(data, numerical_data, n_cols=5, hspace=0.4, wspace=0.2, figsize=(30, 50))"
   ]
  },
  {
   "cell_type": "code",
   "execution_count": null,
   "metadata": {},
   "outputs": [],
   "source": [
    "if config[\"cleaning\"][\"numericals\"][\"scaling\"][\"scale\"]:\n",
    "    data[numerical_data] = pd.DataFrame(data=minmax_scale(data[numerical_data], feature_range=(0, 100)), columns=numerical_data)\n",
    "    data[numerical_data].head()"
   ]
  },
  {
   "cell_type": "code",
   "execution_count": null,
   "metadata": {},
   "outputs": [],
   "source": [
    "if config[\"cleaning\"][\"numericals\"][\"scaling\"][\"distrib_plot_post\"]:\n",
    "    multi_plot_numerical(data, numerical_data, n_cols=5, hspace=0.4, wspace=0.2, figsize=(30, 50))"
   ]
  },
  {
   "cell_type": "markdown",
   "metadata": {},
   "source": [
    "***\n",
    "## 4.5 Targets"
   ]
  },
  {
   "cell_type": "code",
   "execution_count": null,
   "metadata": {},
   "outputs": [],
   "source": [
    "data[targets].isna().any()"
   ]
  },
  {
   "cell_type": "code",
   "execution_count": null,
   "metadata": {},
   "outputs": [],
   "source": [
    "data.dropna(subset=targets, inplace=True)"
   ]
  },
  {
   "cell_type": "code",
   "execution_count": null,
   "metadata": {},
   "outputs": [],
   "source": [
    "data[targets].isna().any()"
   ]
  },
  {
   "cell_type": "markdown",
   "metadata": {
    "jp-MarkdownHeadingCollapsed": true,
    "tags": []
   },
   "source": [
    "***\n",
    "# 5 Correlations"
   ]
  },
  {
   "cell_type": "markdown",
   "metadata": {
    "jp-MarkdownHeadingCollapsed": true,
    "tags": []
   },
   "source": [
    "## 5.1 Numericals features"
   ]
  },
  {
   "cell_type": "markdown",
   "metadata": {},
   "source": [
    "### 5.1.1 Overview"
   ]
  },
  {
   "cell_type": "code",
   "execution_count": null,
   "metadata": {},
   "outputs": [],
   "source": [
    "targets"
   ]
  },
  {
   "cell_type": "code",
   "execution_count": null,
   "metadata": {},
   "outputs": [],
   "source": [
    "if config[\"correlations\"][\"numericals\"][\"overview_heatmap_plot\"]:\n",
    "    correlation_heatmap(data[numerical_data], figsize=(15, 15))"
   ]
  },
  {
   "cell_type": "markdown",
   "metadata": {},
   "source": [
    "***\n",
    "### 5.1.2 Removing"
   ]
  },
  {
   "cell_type": "code",
   "execution_count": null,
   "metadata": {},
   "outputs": [],
   "source": [
    "if config[\"correlations\"][\"numericals\"][\"removing\"]:\n",
    "    features_to_delete = []\n",
    "    data.drop(columns=features_to_delete, inplace=True)\n",
    "    numerical_data = numerical_data.drop(features_to_delete)"
   ]
  },
  {
   "cell_type": "markdown",
   "metadata": {},
   "source": [
    "***\n",
    "### 5.1.3 Result"
   ]
  },
  {
   "cell_type": "code",
   "execution_count": null,
   "metadata": {},
   "outputs": [],
   "source": [
    "if config[\"correlations\"][\"numericals\"][\"result_heatmap_plot\"]:\n",
    "    correlation_heatmap(data[numerical_data], figsize=(15, 15))"
   ]
  },
  {
   "cell_type": "markdown",
   "metadata": {
    "jp-MarkdownHeadingCollapsed": true,
    "tags": []
   },
   "source": [
    "***\n",
    "## 5.2 Categoricals features"
   ]
  },
  {
   "cell_type": "markdown",
   "metadata": {},
   "source": [
    "### 5.2.1 Labelisation"
   ]
  },
  {
   "cell_type": "code",
   "execution_count": null,
   "metadata": {},
   "outputs": [],
   "source": [
    "if config[\"correlations\"][\"categoricals\"][\"labelisation\"]:\n",
    "    categs_to_nums = data[categorical_data].apply(lambda feature: feature.astype(\"category\").cat.codes)\n",
    "\n",
    "    for col in categs_to_nums.columns:\n",
    "        categs_to_nums.rename(columns={col: col + \"_CATEG\"}, inplace=True)\n",
    "\n",
    "    data_enhanced = categs_to_nums.join(data[targets])"
   ]
  },
  {
   "cell_type": "markdown",
   "metadata": {},
   "source": [
    "***\n",
    "### 5.2.2 Overview"
   ]
  },
  {
   "cell_type": "code",
   "execution_count": null,
   "metadata": {},
   "outputs": [],
   "source": [
    "if config[\"correlations\"][\"categoricals\"][\"overview_heatmap_plot\"]:\n",
    "    correlation_heatmap(data_enhanced, figsize=(15, 15))"
   ]
  },
  {
   "cell_type": "markdown",
   "metadata": {},
   "source": [
    "***\n",
    "### 5.2.3 Removing"
   ]
  },
  {
   "cell_type": "code",
   "execution_count": null,
   "metadata": {},
   "outputs": [],
   "source": [
    "if config[\"correlations\"][\"categoricals\"][\"removing\"]:\n",
    "    features_to_delete = []\n",
    "    data.drop(columns=features_to_delete, inplace=True)\n",
    "    categorical_data = categorical_data.drop(features_to_delete)"
   ]
  },
  {
   "cell_type": "markdown",
   "metadata": {},
   "source": [
    "***\n",
    "### 5.2.4 Result"
   ]
  },
  {
   "cell_type": "code",
   "execution_count": null,
   "metadata": {},
   "outputs": [],
   "source": [
    "if config[\"correlations\"][\"categoricals\"][\"result_heatmap_plot\"]:\n",
    "    correlation_heatmap(data_enhanced, figsize=(15, 15))"
   ]
  },
  {
   "cell_type": "markdown",
   "metadata": {
    "jp-MarkdownHeadingCollapsed": true,
    "tags": []
   },
   "source": [
    "***\n",
    "# 6 Final state"
   ]
  },
  {
   "cell_type": "code",
   "execution_count": null,
   "metadata": {},
   "outputs": [],
   "source": [
    "if config[\"final\"][\"overview_plot\"]:\n",
    "    dataframe_distribution_overview(data, figsize=(30, 3))"
   ]
  },
  {
   "cell_type": "markdown",
   "metadata": {},
   "source": [
    "***\n",
    "# 7 Saving"
   ]
  },
  {
   "cell_type": "code",
   "execution_count": null,
   "metadata": {},
   "outputs": [],
   "source": [
    "data.to_csv(\"data/data-cleaned.csv\", sep=\",\")"
   ]
  }
 ],
 "metadata": {
  "interpreter": {
   "hash": "586ad1ed5c97141e2437e681efbf1ec0adcd17d830cf5af2ca3d2819e743e158"
  },
  "kernelspec": {
   "display_name": "Python 3.8.11 64-bit ('base': conda)",
   "name": "python3"
  },
  "language_info": {
   "codemirror_mode": {
    "name": "ipython",
    "version": 3
   },
   "file_extension": ".py",
   "mimetype": "text/x-python",
   "name": "python",
   "nbconvert_exporter": "python",
   "pygments_lexer": "ipython3",
   "version": "3.8.11"
  }
 },
 "nbformat": 4,
 "nbformat_minor": 4
}
