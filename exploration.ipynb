{
 "cells": [
  {
   "cell_type": "markdown",
   "source": [
    "# 1 Dependency import"
   ],
   "metadata": {}
  },
  {
   "cell_type": "code",
   "execution_count": 1,
   "source": [
    "import numpy as np\n",
    "import pandas as pd\n",
    "import matplotlib.pyplot as plt\n",
    "import seaborn as sns\n",
    "\n",
    "from sklearn.model_selection import train_test_split, cross_val_score, GridSearchCV\n",
    "from sklearn.feature_selection import mutual_info_regression\n",
    "from sklearn.compose import ColumnTransformer\n",
    "from sklearn.pipeline import Pipeline\n",
    "from sklearn.impute import SimpleImputer\n",
    "from sklearn.preprocessing import OneHotEncoder\n",
    "from sklearn.dummy import DummyRegressor\n",
    "from sklearn.tree import DecisionTreeRegressor\n",
    "from sklearn.ensemble import RandomForestRegressor\n",
    "from sklearn.metrics import mean_absolute_error\n",
    "from sklearn import set_config\n",
    "\n",
    "from xgboost import XGBRegressor"
   ],
   "outputs": [],
   "metadata": {}
  },
  {
   "cell_type": "code",
   "execution_count": 23,
   "source": [
    "def evaluate(model, grid_params):\n",
    "    set_config(display=\"diagram\")\n",
    "    # set_config(display=\"text\")\n",
    "\n",
    "    categorical_transformer_pipeline = Pipeline(steps=[\n",
    "        (\"cat_imputer\", SimpleImputer(strategy=\"most_frequent\")),\n",
    "        (\"cat_encoder\", OneHotEncoder(handle_unknown=\"ignore\"))\n",
    "    ])\n",
    "\n",
    "    column_transformer = ColumnTransformer([\n",
    "        (\"num_imputer\", SimpleImputer(strategy=\"mean\"), numerical_cols),\n",
    "        (\"cat_transformer_pipeline\", categorical_transformer_pipeline, categorical_cols)\n",
    "    ])\n",
    "\n",
    "    pipeline = Pipeline([\n",
    "        (\"transforms\", column_transformer),\n",
    "        (\"model\", DecisionTreeRegressor())\n",
    "    ])\n",
    "\n",
    "    gs = GridSearchCV(pipeline, grid_params, scoring=\"neg_root_mean_squared_error\").fit(X_train, y_train)\n",
    "    \n",
    "    score = gs.score(X_test, y_test)\n",
    "\n",
    "    return score, gs.best_params_, pipeline\n",
    "    \n",
    "    # print(f\"MSE: {score}\\nBest paramas: {gs.best_params_}\")"
   ],
   "outputs": [],
   "metadata": {}
  },
  {
   "cell_type": "code",
   "execution_count": 4,
   "source": [
    "# def evaluate(model):\n",
    "#     numerical_transformer = SimpleImputer(strategy=\"mean\")\n",
    "\n",
    "#     categorical_transformer = Pipeline(steps=[\n",
    "#         (\"imputer\", SimpleImputer(strategy=\"most_frequent\")),\n",
    "#         (\"onehot\", OneHotEncoder(handle_unknown=\"ignore\"))\n",
    "#     ])\n",
    "\n",
    "#     preprocessor = ColumnTransformer(\n",
    "#         transformers=[\n",
    "#             (\"num\", numerical_transformer, numerical_cols),\n",
    "#             (\"cat\", categorical_transformer, categorical_cols)\n",
    "#         ]\n",
    "#     )\n",
    "\n",
    "#     pipeline = Pipeline(steps=[\n",
    "#         (\"preprocessor\", preprocessor),\n",
    "#         (\"model\", model)\n",
    "#     ])\n",
    "\n",
    "#     mae = -1 * cross_val_score(pipeline, X, y, cv=5, scoring=\"neg_mean_absolute_error\").mean()\n",
    "#     print(f\"MAE: {mae}\")"
   ],
   "outputs": [],
   "metadata": {}
  },
  {
   "cell_type": "code",
   "execution_count": null,
   "source": [
    "def make_mi_scores(X, y, discrete_features):\n",
    "    mi_scores = mutual_info_regression(X, y, discrete_features=discrete_features)\n",
    "    mi_scores = pd.Series(mi_scores, name=\"MI Scores\", index=X.columns)\n",
    "    mi_scores = mi_scores.sort_values(ascending=False)\n",
    "    return mi_scores"
   ],
   "outputs": [],
   "metadata": {}
  },
  {
   "cell_type": "code",
   "execution_count": null,
   "source": [
    "def plot_mi_scores(scores):\n",
    "    scores = scores.sort_values(ascending=True)\n",
    "    width = np.arange(len(scores))\n",
    "    ticks = list(scores.index)\n",
    "    plt.barh(width, scores)\n",
    "    plt.yticks(width, ticks)\n",
    "    plt.title(\"Mutual Information Scores\")"
   ],
   "outputs": [],
   "metadata": {}
  },
  {
   "cell_type": "markdown",
   "source": [
    "***\n",
    "# 2 Loading data"
   ],
   "metadata": {}
  },
  {
   "cell_type": "code",
   "execution_count": 2,
   "source": [
    "data = pd.read_csv(\"data/2015-cleaned.csv\", delimiter=\",\")"
   ],
   "outputs": [],
   "metadata": {}
  },
  {
   "cell_type": "code",
   "execution_count": 3,
   "source": [
    "#target = \"GHGEmissionsIntensity(kgCO2e/ft2)\"\n",
    "target = \"SiteEnergyUse(kBtu)\""
   ],
   "outputs": [],
   "metadata": {}
  },
  {
   "cell_type": "code",
   "execution_count": 4,
   "source": [
    "y = data[target]\n",
    "X = data.drop(columns=[target])"
   ],
   "outputs": [],
   "metadata": {}
  },
  {
   "cell_type": "code",
   "execution_count": 5,
   "source": [
    "X_train_full, X_test_full, y_train, y_test = train_test_split(X, y, train_size=0.8, test_size=0.2, random_state=1)"
   ],
   "outputs": [],
   "metadata": {}
  },
  {
   "cell_type": "code",
   "execution_count": 6,
   "source": [
    "categorical_cols = [cname for cname in X_train_full.columns if X_train_full[cname].nunique() < 10 and X_train_full[cname].dtype == \"object\"]\n",
    "numerical_cols = [cname for cname in X_train_full.columns if X_train_full[cname].dtype in ['int64', 'float64']]"
   ],
   "outputs": [],
   "metadata": {}
  },
  {
   "cell_type": "code",
   "execution_count": 7,
   "source": [
    "my_cols = categorical_cols + numerical_cols\n",
    "X_train = X_train_full[my_cols].copy()\n",
    "X_test = X_test_full[my_cols].copy()"
   ],
   "outputs": [],
   "metadata": {}
  },
  {
   "cell_type": "code",
   "execution_count": 8,
   "source": [
    "y_test.describe()"
   ],
   "outputs": [
    {
     "output_type": "execute_result",
     "data": {
      "text/plain": [
       "count    6.660000e+02\n",
       "mean     4.606876e+06\n",
       "std      1.055033e+07\n",
       "min      0.000000e+00\n",
       "25%      8.487488e+05\n",
       "50%      1.619646e+06\n",
       "75%      3.423317e+06\n",
       "max      1.362414e+08\n",
       "Name: SiteEnergyUse(kBtu), dtype: float64"
      ]
     },
     "metadata": {},
     "execution_count": 8
    }
   ],
   "metadata": {}
  },
  {
   "cell_type": "markdown",
   "source": [
    "***\n",
    "# 3 Feature engineering"
   ],
   "metadata": {}
  },
  {
   "cell_type": "markdown",
   "source": [
    "## 3.1 Mutual Information"
   ],
   "metadata": {}
  },
  {
   "cell_type": "code",
   "execution_count": null,
   "source": [
    "X_MI = X.copy()"
   ],
   "outputs": [],
   "metadata": {}
  },
  {
   "cell_type": "code",
   "execution_count": null,
   "source": [
    "for col in X_MI.select_dtypes(\"object\"):\n",
    "    X_MI[col], _ = X_MI[col].factorize()"
   ],
   "outputs": [],
   "metadata": {}
  },
  {
   "cell_type": "code",
   "execution_count": null,
   "source": [
    "discrete_features = X_MI.dtypes == int"
   ],
   "outputs": [],
   "metadata": {}
  },
  {
   "cell_type": "code",
   "execution_count": null,
   "source": [
    "# make_mi_scores(X_MI, y, discrete_features)"
   ],
   "outputs": [],
   "metadata": {}
  },
  {
   "cell_type": "markdown",
   "source": [
    "***\n",
    "# 4 Modeling"
   ],
   "metadata": {}
  },
  {
   "cell_type": "markdown",
   "source": [
    "***\n",
    "## 4.1 DummyRegressor"
   ],
   "metadata": {}
  },
  {
   "cell_type": "markdown",
   "source": [
    "### 4.1.1 Strategy 1"
   ],
   "metadata": {}
  },
  {
   "cell_type": "code",
   "execution_count": null,
   "source": [
    "%%time\n",
    "\n",
    "model = DummyRegressor(strategy=\"mean\")\n",
    "evaluate(model)"
   ],
   "outputs": [],
   "metadata": {}
  },
  {
   "cell_type": "markdown",
   "source": [
    "***\n",
    "### 4.1.2 Strategy 2"
   ],
   "metadata": {}
  },
  {
   "cell_type": "code",
   "execution_count": null,
   "source": [
    "%%time\n",
    "\n",
    "model = DummyRegressor(strategy=\"median\")\n",
    "evaluate(model)"
   ],
   "outputs": [],
   "metadata": {}
  },
  {
   "cell_type": "markdown",
   "source": [
    "***\n",
    "### 4.1.3 Strategy 3"
   ],
   "metadata": {}
  },
  {
   "cell_type": "code",
   "execution_count": null,
   "source": [
    "%%time\n",
    "\n",
    "for q in range(0, 10, 1):\n",
    "    model = DummyRegressor(strategy=\"quantile\", quantile=q/10)\n",
    "    evaluate(model)"
   ],
   "outputs": [],
   "metadata": {}
  },
  {
   "cell_type": "markdown",
   "source": [
    "***\n",
    "### 4.1.4 Strategy 4"
   ],
   "metadata": {}
  },
  {
   "cell_type": "code",
   "execution_count": null,
   "source": [
    "%%time\n",
    "\n",
    "model = DummyRegressor()\n",
    "\n",
    "grid_params = {\n",
    "    \"model__strategy\": [\"mean\", \"median\"]\n",
    "}\n",
    "\n",
    "evaluate(model)"
   ],
   "outputs": [],
   "metadata": {}
  },
  {
   "cell_type": "markdown",
   "source": [
    "***\n",
    "## 4.2 DecisionTreeRegressor"
   ],
   "metadata": {}
  },
  {
   "cell_type": "markdown",
   "source": [
    "### 4.2.1 Strategy 1"
   ],
   "metadata": {}
  },
  {
   "cell_type": "code",
   "execution_count": null,
   "source": [
    "%%time\n",
    "\n",
    "model = DecisionTreeRegressor(random_state=0)\n",
    "evaluate(model, X_train, y_train)"
   ],
   "outputs": [],
   "metadata": {}
  },
  {
   "cell_type": "markdown",
   "source": [
    "***\n",
    "### 4.2.2 Strategy 2"
   ],
   "metadata": {}
  },
  {
   "cell_type": "code",
   "execution_count": null,
   "source": [
    "%%time\n",
    "\n",
    "for md in range(1, 21, 1):\n",
    "    model = DecisionTreeRegressor(max_depth=md, random_state=0)\n",
    "    evaluate(model, X_train, y_train)"
   ],
   "outputs": [],
   "metadata": {}
  },
  {
   "cell_type": "markdown",
   "source": [
    "***\n",
    "### 4.2.3 Strategy 3"
   ],
   "metadata": {}
  },
  {
   "cell_type": "code",
   "execution_count": null,
   "source": [
    "%%time\n",
    "\n",
    "for msl in range(1, 10, 1):\n",
    "    model = DecisionTreeRegressor(min_samples_leaf=msl, random_state=0)\n",
    "    evaluate(model)"
   ],
   "outputs": [],
   "metadata": {}
  },
  {
   "cell_type": "markdown",
   "source": [
    "***\n",
    "### 4.2.4 Strategy 4"
   ],
   "metadata": {}
  },
  {
   "cell_type": "code",
   "execution_count": null,
   "source": [
    "%%time\n",
    "\n",
    "for s in [\"mse\", \"friedman_mse\", \"mae\", \"poisson\"]:\n",
    "    model = DecisionTreeRegressor(criterion=s, random_state=0)\n",
    "    evaluate(model)"
   ],
   "outputs": [],
   "metadata": {}
  },
  {
   "cell_type": "markdown",
   "source": [
    "***\n",
    "### 4.2.5 Strategy 5"
   ],
   "metadata": {}
  },
  {
   "cell_type": "code",
   "execution_count": null,
   "source": [
    "%%time\n",
    "\n",
    "model = DecisionTreeRegressor(min_samples_leaf=3, criterion=\"mae\", random_state=0)\n",
    "evaluate(model)"
   ],
   "outputs": [],
   "metadata": {}
  },
  {
   "cell_type": "markdown",
   "source": [
    "***\n",
    "## 4.3 RandomForestRegressor"
   ],
   "metadata": {}
  },
  {
   "cell_type": "markdown",
   "source": [
    "### 4.2.1 Strategy 1"
   ],
   "metadata": {}
  },
  {
   "cell_type": "code",
   "execution_count": null,
   "source": [
    "%%time\n",
    "\n",
    "model = RandomForestRegressor(random_state=1)\n",
    "evaluate(model)"
   ],
   "outputs": [],
   "metadata": {}
  },
  {
   "cell_type": "markdown",
   "source": [
    "***\n",
    "### 4.2.2 Strategy 2"
   ],
   "metadata": {}
  },
  {
   "cell_type": "code",
   "execution_count": null,
   "source": [
    "%%time\n",
    "\n",
    "for ne in range(50, 250, 50):\n",
    "    RandomForestRegressor(n_estimators=ne, random_state=1)\n",
    "    evaluate(model)"
   ],
   "outputs": [],
   "metadata": {}
  },
  {
   "cell_type": "markdown",
   "source": [
    "***\n",
    "### 4.2.3 Strategy 3"
   ],
   "metadata": {}
  },
  {
   "cell_type": "code",
   "execution_count": null,
   "source": [
    "%%time\n",
    "\n",
    "for c in [\"mse\", \"mae\", \"poisson\"]:\n",
    "    RandomForestRegressor(criterion=c, random_state=1)\n",
    "    evaluate(model)"
   ],
   "outputs": [],
   "metadata": {}
  },
  {
   "cell_type": "markdown",
   "source": [
    "***\n",
    "### 4.2.4 Strategy 4"
   ],
   "metadata": {}
  },
  {
   "cell_type": "code",
   "execution_count": null,
   "source": [
    "%%time\n",
    "\n",
    "for msl in range(5, 25, 5):\n",
    "    RandomForestRegressor(min_samples_leaf=msl, random_state=1)\n",
    "    evaluate(model)"
   ],
   "outputs": [],
   "metadata": {}
  },
  {
   "cell_type": "markdown",
   "source": [
    "***\n",
    "## 4.4 XGBRegressor"
   ],
   "metadata": {}
  },
  {
   "cell_type": "markdown",
   "source": [
    "### 4.4.1 Strategy 1"
   ],
   "metadata": {}
  },
  {
   "cell_type": "code",
   "execution_count": null,
   "source": [
    "%%time\n",
    "\n",
    "model = XGBRegressor(random_state=1)\n",
    "evaluate(model)"
   ],
   "outputs": [],
   "metadata": {}
  },
  {
   "cell_type": "markdown",
   "source": [
    "***\n",
    "### 4.4.2 Strategy 2"
   ],
   "metadata": {}
  },
  {
   "cell_type": "code",
   "execution_count": null,
   "source": [
    "%%time\n",
    "\n",
    "for ne in [100, 200, 500, 1000]:\n",
    "    model = XGBRegressor(n_estimators=ne, random_state=1)\n",
    "    evaluate(model)"
   ],
   "outputs": [],
   "metadata": {}
  },
  {
   "cell_type": "markdown",
   "source": [
    "***\n",
    "### 4.4.3 Strategy 3"
   ],
   "metadata": {}
  },
  {
   "cell_type": "code",
   "execution_count": null,
   "source": [
    "%%time\n",
    "\n",
    "for lr in [0.05, 0.075, 0.09, 0.1, 0.11, 0.12, 0.15]:\n",
    "    model = XGBRegressor(learning_rate=lr, n_estimators=200, random_state=1, verbosity=0)\n",
    "    print(f\"learning_rate:  {lr}\")\n",
    "    evaluate(model)"
   ],
   "outputs": [],
   "metadata": {}
  },
  {
   "cell_type": "markdown",
   "source": [
    "***\n",
    "### 4.4.3 Strategy 3"
   ],
   "metadata": {}
  },
  {
   "cell_type": "code",
   "execution_count": null,
   "source": [
    "%%time\n",
    "\n",
    "for md in [2, 3, 4, 5]:\n",
    "    model = XGBRegressor(max_depth=md, learning_rate=0.09, n_estimators=200, random_state=1, verbosity=0)\n",
    "    print(f\"max_depth:  {md}\")\n",
    "    evaluate(model)"
   ],
   "outputs": [],
   "metadata": {}
  },
  {
   "cell_type": "markdown",
   "source": [
    "***\n",
    "# 5 ..."
   ],
   "metadata": {}
  },
  {
   "cell_type": "code",
   "execution_count": 9,
   "source": [
    "set_config(display=\"diagram\")\n",
    "\n",
    "categorical_transformer_pipeline = Pipeline(steps=[\n",
    "    (\"cat_imputer\", SimpleImputer(strategy=\"most_frequent\")),\n",
    "    (\"cat_encoder\", OneHotEncoder(handle_unknown=\"ignore\"))\n",
    "])\n",
    "\n",
    "column_transformer = ColumnTransformer([\n",
    "    (\"num_imputer\", SimpleImputer(strategy=\"mean\"), numerical_cols),\n",
    "    (\"cat_transformer_pipeline\", categorical_transformer_pipeline, categorical_cols)\n",
    "])\n",
    "\n",
    "pipeline = Pipeline([\n",
    "    (\"transforms\", column_transformer),\n",
    "    (\"model\", DecisionTreeRegressor())\n",
    "])"
   ],
   "outputs": [],
   "metadata": {}
  },
  {
   "cell_type": "code",
   "execution_count": 10,
   "source": [
    "display(pipeline)"
   ],
   "outputs": [
    {
     "output_type": "display_data",
     "data": {
      "text/html": [
       "<style>#sk-d778595f-72f8-449b-95cc-3c875d26370e {color: black;background-color: white;}#sk-d778595f-72f8-449b-95cc-3c875d26370e pre{padding: 0;}#sk-d778595f-72f8-449b-95cc-3c875d26370e div.sk-toggleable {background-color: white;}#sk-d778595f-72f8-449b-95cc-3c875d26370e label.sk-toggleable__label {cursor: pointer;display: block;width: 100%;margin-bottom: 0;padding: 0.2em 0.3em;box-sizing: border-box;text-align: center;}#sk-d778595f-72f8-449b-95cc-3c875d26370e div.sk-toggleable__content {max-height: 0;max-width: 0;overflow: hidden;text-align: left;background-color: #f0f8ff;}#sk-d778595f-72f8-449b-95cc-3c875d26370e div.sk-toggleable__content pre {margin: 0.2em;color: black;border-radius: 0.25em;background-color: #f0f8ff;}#sk-d778595f-72f8-449b-95cc-3c875d26370e input.sk-toggleable__control:checked~div.sk-toggleable__content {max-height: 200px;max-width: 100%;overflow: auto;}#sk-d778595f-72f8-449b-95cc-3c875d26370e div.sk-estimator input.sk-toggleable__control:checked~label.sk-toggleable__label {background-color: #d4ebff;}#sk-d778595f-72f8-449b-95cc-3c875d26370e div.sk-label input.sk-toggleable__control:checked~label.sk-toggleable__label {background-color: #d4ebff;}#sk-d778595f-72f8-449b-95cc-3c875d26370e input.sk-hidden--visually {border: 0;clip: rect(1px 1px 1px 1px);clip: rect(1px, 1px, 1px, 1px);height: 1px;margin: -1px;overflow: hidden;padding: 0;position: absolute;width: 1px;}#sk-d778595f-72f8-449b-95cc-3c875d26370e div.sk-estimator {font-family: monospace;background-color: #f0f8ff;margin: 0.25em 0.25em;border: 1px dotted black;border-radius: 0.25em;box-sizing: border-box;}#sk-d778595f-72f8-449b-95cc-3c875d26370e div.sk-estimator:hover {background-color: #d4ebff;}#sk-d778595f-72f8-449b-95cc-3c875d26370e div.sk-parallel-item::after {content: \"\";width: 100%;border-bottom: 1px solid gray;flex-grow: 1;}#sk-d778595f-72f8-449b-95cc-3c875d26370e div.sk-label:hover label.sk-toggleable__label {background-color: #d4ebff;}#sk-d778595f-72f8-449b-95cc-3c875d26370e div.sk-serial::before {content: \"\";position: absolute;border-left: 1px solid gray;box-sizing: border-box;top: 2em;bottom: 0;left: 50%;}#sk-d778595f-72f8-449b-95cc-3c875d26370e div.sk-serial {display: flex;flex-direction: column;align-items: center;background-color: white;}#sk-d778595f-72f8-449b-95cc-3c875d26370e div.sk-item {z-index: 1;}#sk-d778595f-72f8-449b-95cc-3c875d26370e div.sk-parallel {display: flex;align-items: stretch;justify-content: center;background-color: white;}#sk-d778595f-72f8-449b-95cc-3c875d26370e div.sk-parallel-item {display: flex;flex-direction: column;position: relative;background-color: white;}#sk-d778595f-72f8-449b-95cc-3c875d26370e div.sk-parallel-item:first-child::after {align-self: flex-end;width: 50%;}#sk-d778595f-72f8-449b-95cc-3c875d26370e div.sk-parallel-item:last-child::after {align-self: flex-start;width: 50%;}#sk-d778595f-72f8-449b-95cc-3c875d26370e div.sk-parallel-item:only-child::after {width: 0;}#sk-d778595f-72f8-449b-95cc-3c875d26370e div.sk-dashed-wrapped {border: 1px dashed gray;margin: 0.2em;box-sizing: border-box;padding-bottom: 0.1em;background-color: white;position: relative;}#sk-d778595f-72f8-449b-95cc-3c875d26370e div.sk-label label {font-family: monospace;font-weight: bold;background-color: white;display: inline-block;line-height: 1.2em;}#sk-d778595f-72f8-449b-95cc-3c875d26370e div.sk-label-container {position: relative;z-index: 2;text-align: center;}#sk-d778595f-72f8-449b-95cc-3c875d26370e div.sk-container {display: inline-block;position: relative;}</style><div id=\"sk-d778595f-72f8-449b-95cc-3c875d26370e\" class\"sk-top-container\"><div class=\"sk-container\"><div class=\"sk-item sk-dashed-wrapped\"><div class=\"sk-label-container\"><div class=\"sk-label sk-toggleable\"><input class=\"sk-toggleable__control sk-hidden--visually\" id=\"a3117837-d9eb-4600-9018-0ce1e638fa74\" type=\"checkbox\" ><label class=\"sk-toggleable__label\" for=\"a3117837-d9eb-4600-9018-0ce1e638fa74\">Pipeline</label><div class=\"sk-toggleable__content\"><pre>Pipeline(steps=[('transforms',\n",
       "                 ColumnTransformer(transformers=[('num_imputer',\n",
       "                                                  SimpleImputer(),\n",
       "                                                  ['Unnamed: 0',\n",
       "                                                   'OSEBuildingID', 'DataYear',\n",
       "                                                   'CouncilDistrictCode',\n",
       "                                                   'YearBuilt',\n",
       "                                                   'NumberofBuildings',\n",
       "                                                   'NumberofFloors',\n",
       "                                                   'PropertyGFATotal',\n",
       "                                                   'PropertyGFAParking',\n",
       "                                                   'PropertyGFABuilding(s)',\n",
       "                                                   'LargestPropertyUseTypeGFA',\n",
       "                                                   'SecondLargestPropertyUseTypeGFA',\n",
       "                                                   'ThirdLargestProper...\n",
       "                                                   'Seattle Police Department '\n",
       "                                                   'Micro Community Policing '\n",
       "                                                   'Plan Areas',\n",
       "                                                   'City Council Districts', ...]),\n",
       "                                                 ('cat_transformer_pipeline',\n",
       "                                                  Pipeline(steps=[('cat_imputer',\n",
       "                                                                   SimpleImputer(strategy='most_frequent')),\n",
       "                                                                  ('cat_encoder',\n",
       "                                                                   OneHotEncoder(handle_unknown='ignore'))]),\n",
       "                                                  ['BuildingType',\n",
       "                                                   'DefaultData', 'Comment',\n",
       "                                                   'ComplianceStatus',\n",
       "                                                   'Outlier'])])),\n",
       "                ('model', DecisionTreeRegressor())])</pre></div></div></div><div class=\"sk-serial\"><div class=\"sk-item sk-dashed-wrapped\"><div class=\"sk-label-container\"><div class=\"sk-label sk-toggleable\"><input class=\"sk-toggleable__control sk-hidden--visually\" id=\"53b601c1-8664-4262-aa22-94b775fcb3b5\" type=\"checkbox\" ><label class=\"sk-toggleable__label\" for=\"53b601c1-8664-4262-aa22-94b775fcb3b5\">transforms: ColumnTransformer</label><div class=\"sk-toggleable__content\"><pre>ColumnTransformer(transformers=[('num_imputer', SimpleImputer(),\n",
       "                                 ['Unnamed: 0', 'OSEBuildingID', 'DataYear',\n",
       "                                  'CouncilDistrictCode', 'YearBuilt',\n",
       "                                  'NumberofBuildings', 'NumberofFloors',\n",
       "                                  'PropertyGFATotal', 'PropertyGFAParking',\n",
       "                                  'PropertyGFABuilding(s)',\n",
       "                                  'LargestPropertyUseTypeGFA',\n",
       "                                  'SecondLargestPropertyUseTypeGFA',\n",
       "                                  'ThirdLargestPropertyUseTypeGFA',\n",
       "                                  'ENERGYSTARScore...\n",
       "                                  'GHGEmissionsIntensity(kgCO2e/ft2)',\n",
       "                                  '2010 Census Tracts',\n",
       "                                  'Seattle Police Department Micro Community '\n",
       "                                  'Policing Plan Areas',\n",
       "                                  'City Council Districts', ...]),\n",
       "                                ('cat_transformer_pipeline',\n",
       "                                 Pipeline(steps=[('cat_imputer',\n",
       "                                                  SimpleImputer(strategy='most_frequent')),\n",
       "                                                 ('cat_encoder',\n",
       "                                                  OneHotEncoder(handle_unknown='ignore'))]),\n",
       "                                 ['BuildingType', 'DefaultData', 'Comment',\n",
       "                                  'ComplianceStatus', 'Outlier'])])</pre></div></div></div><div class=\"sk-parallel\"><div class=\"sk-parallel-item\"><div class=\"sk-item\"><div class=\"sk-label-container\"><div class=\"sk-label sk-toggleable\"><input class=\"sk-toggleable__control sk-hidden--visually\" id=\"85fc6feb-8c04-42d3-9f6b-4d34f38cb562\" type=\"checkbox\" ><label class=\"sk-toggleable__label\" for=\"85fc6feb-8c04-42d3-9f6b-4d34f38cb562\">num_imputer</label><div class=\"sk-toggleable__content\"><pre>['Unnamed: 0', 'OSEBuildingID', 'DataYear', 'CouncilDistrictCode', 'YearBuilt', 'NumberofBuildings', 'NumberofFloors', 'PropertyGFATotal', 'PropertyGFAParking', 'PropertyGFABuilding(s)', 'LargestPropertyUseTypeGFA', 'SecondLargestPropertyUseTypeGFA', 'ThirdLargestPropertyUseTypeGFA', 'ENERGYSTARScore', 'SiteEUI(kBtu/sf)', 'SiteEUIWN(kBtu/sf)', 'SourceEUI(kBtu/sf)', 'SourceEUIWN(kBtu/sf)', 'SiteEnergyUseWN(kBtu)', 'SteamUse(kBtu)', 'Electricity(kWh)', 'Electricity(kBtu)', 'NaturalGas(therms)', 'NaturalGas(kBtu)', 'OtherFuelUse(kBtu)', 'GHGEmissions(MetricTonsCO2e)', 'GHGEmissionsIntensity(kgCO2e/ft2)', '2010 Census Tracts', 'Seattle Police Department Micro Community Policing Plan Areas', 'City Council Districts', 'SPD Beats', 'Zip Codes']</pre></div></div></div><div class=\"sk-serial\"><div class=\"sk-item\"><div class=\"sk-estimator sk-toggleable\"><input class=\"sk-toggleable__control sk-hidden--visually\" id=\"5bf2968f-4312-4e9d-8d29-354af2e284da\" type=\"checkbox\" ><label class=\"sk-toggleable__label\" for=\"5bf2968f-4312-4e9d-8d29-354af2e284da\">SimpleImputer</label><div class=\"sk-toggleable__content\"><pre>SimpleImputer()</pre></div></div></div></div></div></div><div class=\"sk-parallel-item\"><div class=\"sk-item\"><div class=\"sk-label-container\"><div class=\"sk-label sk-toggleable\"><input class=\"sk-toggleable__control sk-hidden--visually\" id=\"ed755ff5-723f-4861-aa66-44d7913cce2d\" type=\"checkbox\" ><label class=\"sk-toggleable__label\" for=\"ed755ff5-723f-4861-aa66-44d7913cce2d\">cat_transformer_pipeline</label><div class=\"sk-toggleable__content\"><pre>['BuildingType', 'DefaultData', 'Comment', 'ComplianceStatus', 'Outlier']</pre></div></div></div><div class=\"sk-serial\"><div class=\"sk-item\"><div class=\"sk-serial\"><div class=\"sk-item\"><div class=\"sk-estimator sk-toggleable\"><input class=\"sk-toggleable__control sk-hidden--visually\" id=\"581f0024-8527-4050-89f9-2ba4aefb700b\" type=\"checkbox\" ><label class=\"sk-toggleable__label\" for=\"581f0024-8527-4050-89f9-2ba4aefb700b\">SimpleImputer</label><div class=\"sk-toggleable__content\"><pre>SimpleImputer(strategy='most_frequent')</pre></div></div></div><div class=\"sk-item\"><div class=\"sk-estimator sk-toggleable\"><input class=\"sk-toggleable__control sk-hidden--visually\" id=\"329d5ce4-510b-4c8c-b0ef-dd453fc313e6\" type=\"checkbox\" ><label class=\"sk-toggleable__label\" for=\"329d5ce4-510b-4c8c-b0ef-dd453fc313e6\">OneHotEncoder</label><div class=\"sk-toggleable__content\"><pre>OneHotEncoder(handle_unknown='ignore')</pre></div></div></div></div></div></div></div></div></div></div><div class=\"sk-item\"><div class=\"sk-estimator sk-toggleable\"><input class=\"sk-toggleable__control sk-hidden--visually\" id=\"b71e496e-edbb-4b43-a6df-407aa0ca78f0\" type=\"checkbox\" ><label class=\"sk-toggleable__label\" for=\"b71e496e-edbb-4b43-a6df-407aa0ca78f0\">DecisionTreeRegressor</label><div class=\"sk-toggleable__content\"><pre>DecisionTreeRegressor()</pre></div></div></div></div></div></div></div>"
      ],
      "text/plain": [
       "Pipeline(steps=[('transforms',\n",
       "                 ColumnTransformer(transformers=[('num_imputer',\n",
       "                                                  SimpleImputer(),\n",
       "                                                  ['Unnamed: 0',\n",
       "                                                   'OSEBuildingID', 'DataYear',\n",
       "                                                   'CouncilDistrictCode',\n",
       "                                                   'YearBuilt',\n",
       "                                                   'NumberofBuildings',\n",
       "                                                   'NumberofFloors',\n",
       "                                                   'PropertyGFATotal',\n",
       "                                                   'PropertyGFAParking',\n",
       "                                                   'PropertyGFABuilding(s)',\n",
       "                                                   'LargestPropertyUseTypeGFA',\n",
       "                                                   'SecondLargestPropertyUseTypeGFA',\n",
       "                                                   'ThirdLargestProper...\n",
       "                                                   'Seattle Police Department '\n",
       "                                                   'Micro Community Policing '\n",
       "                                                   'Plan Areas',\n",
       "                                                   'City Council Districts', ...]),\n",
       "                                                 ('cat_transformer_pipeline',\n",
       "                                                  Pipeline(steps=[('cat_imputer',\n",
       "                                                                   SimpleImputer(strategy='most_frequent')),\n",
       "                                                                  ('cat_encoder',\n",
       "                                                                   OneHotEncoder(handle_unknown='ignore'))]),\n",
       "                                                  ['BuildingType',\n",
       "                                                   'DefaultData', 'Comment',\n",
       "                                                   'ComplianceStatus',\n",
       "                                                   'Outlier'])])),\n",
       "                ('model', DecisionTreeRegressor())])"
      ]
     },
     "metadata": {}
    }
   ],
   "metadata": {}
  },
  {
   "cell_type": "code",
   "execution_count": 20,
   "source": [
    "# pipeline.get_params()"
   ],
   "outputs": [],
   "metadata": {}
  },
  {
   "cell_type": "code",
   "execution_count": 16,
   "source": [
    "grid_params = {\n",
    "        \"model__random_state\": [1],\n",
    "        \"model__max_depth\": range(2, 22, 2),\n",
    "        \"model__min_samples_leaf\": range(1, 11, 1),\n",
    "        \"model__criterion\": [\"mse\"]\n",
    "    }"
   ],
   "outputs": [],
   "metadata": {}
  },
  {
   "cell_type": "code",
   "execution_count": 17,
   "source": [
    "gs = GridSearchCV(pipeline, grid_params, scoring=\"neg_root_mean_squared_error\").fit(X_train, y_train)"
   ],
   "outputs": [],
   "metadata": {}
  },
  {
   "cell_type": "code",
   "execution_count": 18,
   "source": [
    "set_config(display=\"text\")\n",
    "\n",
    "gs.score(X_test, y_test)"
   ],
   "outputs": [
    {
     "output_type": "execute_result",
     "data": {
      "text/plain": [
       "-875568.2279267329"
      ]
     },
     "metadata": {},
     "execution_count": 18
    }
   ],
   "metadata": {}
  },
  {
   "cell_type": "code",
   "execution_count": 19,
   "source": [
    "gs.best_params_"
   ],
   "outputs": [
    {
     "output_type": "execute_result",
     "data": {
      "text/plain": [
       "{'model__criterion': 'mse',\n",
       " 'model__max_depth': 10,\n",
       " 'model__min_samples_leaf': 1,\n",
       " 'model__random_state': 1}"
      ]
     },
     "metadata": {},
     "execution_count": 19
    }
   ],
   "metadata": {}
  }
 ],
 "metadata": {
  "orig_nbformat": 4,
  "language_info": {
   "name": "python",
   "version": "3.8.11",
   "mimetype": "text/x-python",
   "codemirror_mode": {
    "name": "ipython",
    "version": 3
   },
   "pygments_lexer": "ipython3",
   "nbconvert_exporter": "python",
   "file_extension": ".py"
  },
  "kernelspec": {
   "name": "python3",
   "display_name": "Python 3.8.11 64-bit ('base': conda)"
  },
  "interpreter": {
   "hash": "f50bd5474255f82aa829301912ce59e29110123be660cf8d7583f66a20371684"
  }
 },
 "nbformat": 4,
 "nbformat_minor": 2
}