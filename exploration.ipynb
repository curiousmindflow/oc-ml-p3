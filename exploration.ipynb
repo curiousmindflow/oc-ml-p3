{
 "cells": [
  {
   "cell_type": "markdown",
   "metadata": {},
   "source": [
    "# 1 Dependency import"
   ]
  },
  {
   "cell_type": "code",
   "execution_count": 1,
   "metadata": {},
   "outputs": [],
   "source": [
    "import numpy as np\n",
    "import pandas as pd\n",
    "import matplotlib.pyplot as plt\n",
    "import seaborn as sns\n",
    "\n",
    "from sklearn.model_selection import train_test_split, cross_val_score, GridSearchCV\n",
    "from sklearn.feature_selection import mutual_info_regression\n",
    "from sklearn.compose import ColumnTransformer\n",
    "from sklearn.pipeline import Pipeline\n",
    "from sklearn.impute import SimpleImputer\n",
    "from sklearn.preprocessing import OneHotEncoder, OrdinalEncoder\n",
    "from sklearn.dummy import DummyRegressor\n",
    "from sklearn.linear_model import LinearRegression\n",
    "from sklearn.svm import SVR\n",
    "from sklearn.tree import DecisionTreeRegressor\n",
    "from sklearn.ensemble import RandomForestRegressor\n",
    "from sklearn.metrics import mean_absolute_error\n",
    "from sklearn import set_config\n",
    "\n",
    "from xgboost import XGBRegressor"
   ]
  },
  {
   "cell_type": "code",
   "execution_count": 2,
   "metadata": {},
   "outputs": [],
   "source": [
    "def evaluate(model, grid_params):\n",
    "    set_config(display=\"diagram\")\n",
    "    # set_config(display=\"text\")\n",
    "\n",
    "    num_pipe = Pipeline(steps=[\n",
    "        (\"simple_imputer\", SimpleImputer(strategy=\"mean\"))\n",
    "    ])\n",
    "\n",
    "    cat_less_unique_pipe = Pipeline(steps=[\n",
    "        (\"simple_imputer\", SimpleImputer(strategy=\"most_frequent\")),\n",
    "        (\"one_hot_encoder\", OneHotEncoder(handle_unknown=\"ignore\"))\n",
    "    ])\n",
    "\n",
    "    cat_lot_unique_pipe = Pipeline(steps=[\n",
    "        (\"simple_imputer\", SimpleImputer(strategy=\"most_frequent\")),\n",
    "        (\"one_hot_encoder\", OneHotEncoder(handle_unknown=\"ignore\"))\n",
    "    ])\n",
    "\n",
    "    preprocessor = ColumnTransformer([\n",
    "        (\"num_pipe\", num_pipe, numerical_cols),\n",
    "        (\"cat_less_unique_pipe\", cat_less_unique_pipe, categorical_cols_less_unique),\n",
    "        (\"cat_lot_unique_pipe\", cat_lot_unique_pipe, categorical_cols_lot_unique)\n",
    "    ])\n",
    "\n",
    "    pipeline = Pipeline([\n",
    "        (\"transforms\", preprocessor),\n",
    "        (\"model\", model)\n",
    "    ])\n",
    "\n",
    "    gs = GridSearchCV(pipeline, grid_params, scoring=\"neg_root_mean_squared_error\").fit(X_train, y_train)\n",
    "\n",
    "    score = gs.score(X_test, y_test)\n",
    "    ratio = (score * 100) / y_test.mean()\n",
    "    ratio = np.abs(ratio)\n",
    "\n",
    "    return score, ratio, gs, pipeline"
   ]
  },
  {
   "cell_type": "code",
   "execution_count": 3,
   "metadata": {},
   "outputs": [],
   "source": [
    "def make_mi_scores(X, y, discrete_features):\n",
    "    mi_scores = mutual_info_regression(X, y, discrete_features=discrete_features)\n",
    "    mi_scores = pd.Series(mi_scores, name=\"MI Scores\", index=X.columns)\n",
    "    mi_scores = mi_scores.sort_values(ascending=False)\n",
    "    return mi_scores"
   ]
  },
  {
   "cell_type": "code",
   "execution_count": 4,
   "metadata": {},
   "outputs": [],
   "source": [
    "def plot_mi_scores(scores):\n",
    "    scores = scores.sort_values(ascending=True)\n",
    "    width = np.arange(len(scores))\n",
    "    ticks = list(scores.index)\n",
    "    plt.barh(width, scores)\n",
    "    plt.yticks(width, ticks)\n",
    "    plt.title(\"Mutual Information Scores\")"
   ]
  },
  {
   "cell_type": "markdown",
   "metadata": {},
   "source": [
    "***\n",
    "# 2 Loading data"
   ]
  },
  {
   "cell_type": "code",
   "execution_count": 5,
   "metadata": {},
   "outputs": [],
   "source": [
    "data = pd.read_csv(\"data/data-cleaned.csv\", delimiter=\",\")"
   ]
  },
  {
   "cell_type": "code",
   "execution_count": 6,
   "metadata": {},
   "outputs": [],
   "source": [
    "#target = \"GHGEmissionsIntensity(kgCO2e/ft2)\"\n",
    "target = \"SiteEnergyUse(kBtu)\""
   ]
  },
  {
   "cell_type": "code",
   "execution_count": 7,
   "metadata": {},
   "outputs": [],
   "source": [
    "y = data[target]\n",
    "X = data.drop(columns=[target])"
   ]
  },
  {
   "cell_type": "code",
   "execution_count": 8,
   "metadata": {},
   "outputs": [],
   "source": [
    "X_train_full, X_test_full, y_train, y_test = train_test_split(X, y, train_size=0.8, test_size=0.2, random_state=1)"
   ]
  },
  {
   "cell_type": "code",
   "execution_count": 9,
   "metadata": {},
   "outputs": [],
   "source": [
    "categorical_cols_less_unique = [cname for cname in X_train_full.columns if X_train_full[cname].nunique() < 10 and X_train_full[cname].dtype == \"object\"]\n",
    "categorical_cols_lot_unique = [cname for cname in X_train_full.columns if X_train_full[cname].nunique() >= 10 and X_train_full[cname].dtype == \"object\"]\n",
    "numerical_cols = [cname for cname in X_train_full.columns if X_train_full[cname].dtype in ['int64', 'float64']]"
   ]
  },
  {
   "cell_type": "code",
   "execution_count": 10,
   "metadata": {},
   "outputs": [],
   "source": [
    "my_cols = categorical_cols_lot_unique + categorical_cols_less_unique + numerical_cols\n",
    "X_train = X_train_full[my_cols].copy()\n",
    "X_test = X_test_full[my_cols].copy()"
   ]
  },
  {
   "cell_type": "code",
   "execution_count": 11,
   "metadata": {},
   "outputs": [
    {
     "data": {
      "text/plain": [
       "count    1.341000e+03\n",
       "mean     5.540900e+06\n",
       "std      1.523880e+07\n",
       "min      0.000000e+00\n",
       "25%      9.285849e+05\n",
       "50%      1.835805e+06\n",
       "75%      4.217108e+06\n",
       "max      2.958126e+08\n",
       "Name: SiteEnergyUse(kBtu), dtype: float64"
      ]
     },
     "execution_count": 11,
     "metadata": {},
     "output_type": "execute_result"
    }
   ],
   "source": [
    "y_test.describe()"
   ]
  },
  {
   "cell_type": "markdown",
   "metadata": {},
   "source": [
    "***\n",
    "# 3 Feature engineering"
   ]
  },
  {
   "cell_type": "markdown",
   "metadata": {},
   "source": [
    "## 3.1 Mutual Information"
   ]
  },
  {
   "cell_type": "code",
   "execution_count": 12,
   "metadata": {},
   "outputs": [],
   "source": [
    "X_MI = X.copy()"
   ]
  },
  {
   "cell_type": "code",
   "execution_count": 13,
   "metadata": {},
   "outputs": [],
   "source": [
    "for col in X_MI.select_dtypes(\"object\"):\n",
    "    X_MI[col], _ = X_MI[col].factorize()"
   ]
  },
  {
   "cell_type": "code",
   "execution_count": 14,
   "metadata": {},
   "outputs": [],
   "source": [
    "discrete_features = X_MI.dtypes == int"
   ]
  },
  {
   "cell_type": "code",
   "execution_count": 15,
   "metadata": {},
   "outputs": [],
   "source": [
    "# make_mi_scores(X_MI, y, discrete_features)"
   ]
  },
  {
   "cell_type": "markdown",
   "metadata": {},
   "source": [
    "***\n",
    "# 4 Modeling"
   ]
  },
  {
   "cell_type": "markdown",
   "metadata": {},
   "source": [
    "***\n",
    "## 4.1 DummyRegressor"
   ]
  },
  {
   "cell_type": "code",
   "execution_count": 16,
   "metadata": {},
   "outputs": [
    {
     "name": "stdout",
     "output_type": "stream",
     "text": [
      "MSE: -1.52393e+07 / RATIO: 275.0%\n",
      "best_params: {'model__strategy': 'mean'}\n",
      "CPU times: user 6.8 s, sys: 169 ms, total: 6.97 s\n",
      "Wall time: 7 s\n"
     ]
    }
   ],
   "source": [
    "%%time\n",
    "\n",
    "model = DummyRegressor()\n",
    "\n",
    "grid_params = [\n",
    "    {\n",
    "        \"model__strategy\": [\"mean\", \"median\"]\n",
    "    },\n",
    "    {\n",
    "        \"model__strategy\": [\"quantile\"],\n",
    "        \"model__quantile\": np.arange(0, 1.1, 0.1),\n",
    "    }\n",
    "]\n",
    "\n",
    "score, ratio, gs, pipeline = evaluate(model, grid_params)\n",
    "\n",
    "print(f\"MSE: {score:n} / RATIO: {ratio:.4}%\")\n",
    "print(f\"best_params: {gs.best_params_}\")"
   ]
  },
  {
   "cell_type": "markdown",
   "metadata": {},
   "source": [
    "***\n",
    "## 4.2 LinearRegression"
   ]
  },
  {
   "cell_type": "code",
   "execution_count": 17,
   "metadata": {},
   "outputs": [
    {
     "name": "stdout",
     "output_type": "stream",
     "text": [
      "MSE: -761564 / RATIO: 13.74%\n",
      "best_params: {'model__fit_intercept': True}\n",
      "CPU times: user 7.47 s, sys: 123 ms, total: 7.59 s\n",
      "Wall time: 1.38 s\n"
     ]
    }
   ],
   "source": [
    "%%time\n",
    "\n",
    "model = LinearRegression()\n",
    "\n",
    "grid_params = [\n",
    "    {\n",
    "        \"model__fit_intercept\": [True]\n",
    "    }\n",
    "]\n",
    "\n",
    "score, ratio, gs, pipeline = evaluate(model, grid_params)\n",
    "\n",
    "print(f\"MSE: {score:n} / RATIO: {ratio:.4}%\")\n",
    "print(f\"best_params: {gs.best_params_}\")"
   ]
  },
  {
   "cell_type": "markdown",
   "metadata": {},
   "source": [
    "***\n",
    "## 4.3 SupportVectorRegression"
   ]
  },
  {
   "cell_type": "code",
   "execution_count": 18,
   "metadata": {},
   "outputs": [
    {
     "name": "stdout",
     "output_type": "stream",
     "text": [
      "MSE: -1.5691e+07 / RATIO: 283.2%\n",
      "best_params: {'model__degree': 3, 'model__gamma': 'scale', 'model__kernel': 'rbf'}\n",
      "CPU times: user 19.3 s, sys: 255 ms, total: 19.6 s\n",
      "Wall time: 19.4 s\n"
     ]
    }
   ],
   "source": [
    "%%time\n",
    "\n",
    "model = SVR()\n",
    "\n",
    "grid_params = [\n",
    "    {\n",
    "        \"model__kernel\": [\"rbf\"],\n",
    "        \"model__degree\": [3],\n",
    "        \"model__gamma\": [\"scale\"]\n",
    "    }\n",
    "]\n",
    "\n",
    "score, ratio, gs, pipeline = evaluate(model, grid_params)\n",
    "\n",
    "print(f\"MSE: {score:n} / RATIO: {ratio:.4}%\")\n",
    "print(f\"best_params: {gs.best_params_}\")"
   ]
  },
  {
   "cell_type": "markdown",
   "metadata": {},
   "source": [
    "***\n",
    "## 4.4 DecisionTreeRegressor"
   ]
  },
  {
   "cell_type": "code",
   "execution_count": 19,
   "metadata": {},
   "outputs": [
    {
     "name": "stdout",
     "output_type": "stream",
     "text": [
      "MSE: -2.95676e+06 / RATIO: 53.36%\n",
      "best_params: {'model__criterion': 'mse', 'model__max_depth': 4, 'model__min_samples_leaf': 1, 'model__random_state': 1}\n",
      "CPU times: user 18.5 s, sys: 22.9 ms, total: 18.5 s\n",
      "Wall time: 18.5 s\n"
     ]
    }
   ],
   "source": [
    "%%time\n",
    "\n",
    "model = DecisionTreeRegressor()\n",
    "\n",
    "grid_params = [\n",
    "    {\n",
    "        \"model__random_state\": [1],\n",
    "        \"model__max_depth\": [2, 3, 4],\n",
    "        \"model__min_samples_leaf\": range(1, 11, 1),\n",
    "        \"model__criterion\": [\"mse\"]\n",
    "    }\n",
    "]\n",
    "\n",
    "score, ratio, gs, pipeline = evaluate(model, grid_params)\n",
    "\n",
    "print(f\"MSE: {score:n} / RATIO: {ratio:.4}%\")\n",
    "print(f\"best_params: {gs.best_params_}\")"
   ]
  },
  {
   "cell_type": "markdown",
   "metadata": {},
   "source": [
    "***\n",
    "## 4.5 RandomForestRegressor"
   ]
  },
  {
   "cell_type": "code",
   "execution_count": 20,
   "metadata": {},
   "outputs": [
    {
     "name": "stdout",
     "output_type": "stream",
     "text": [
      "MSE: -1.7076e+06 / RATIO: 30.82%\n",
      "best_params: {'model__criterion': 'mse', 'model__min_samples_leaf': 1, 'model__n_estimators': 25, 'model__random_state': 1}\n",
      "CPU times: user 1min 58s, sys: 52.2 ms, total: 1min 58s\n",
      "Wall time: 1min 59s\n"
     ]
    }
   ],
   "source": [
    "%%time\n",
    "\n",
    "model = RandomForestRegressor()\n",
    "\n",
    "grid_params = [\n",
    "    {\n",
    "        \"model__random_state\": [1],\n",
    "        \"model__n_estimators\": [25],\n",
    "        \"model__min_samples_leaf\": [1],\n",
    "        \"model__criterion\": [\"mse\"]\n",
    "    }\n",
    "]\n",
    "\n",
    "score, ratio, gs, pipeline = evaluate(model, grid_params)\n",
    "\n",
    "print(f\"MSE: {score:n} / RATIO: {ratio:.4}%\")\n",
    "print(f\"best_params: {gs.best_params_}\")"
   ]
  },
  {
   "cell_type": "markdown",
   "metadata": {},
   "source": [
    "***\n",
    "## 4.6 XGBRegressor"
   ]
  },
  {
   "cell_type": "code",
   "execution_count": 21,
   "metadata": {},
   "outputs": [
    {
     "name": "stdout",
     "output_type": "stream",
     "text": [
      "MSE: -1.45187e+06 / RATIO: 26.2%\n",
      "best_params: {'model__learning_rate': 0.1, 'model__max_depth': 3, 'model__n_estimators': 100, 'model__random_state': 1}\n",
      "CPU times: user 4min 27s, sys: 8.31 s, total: 4min 35s\n",
      "Wall time: 26.7 s\n"
     ]
    }
   ],
   "source": [
    "%%time\n",
    "\n",
    "model = XGBRegressor()\n",
    "\n",
    "grid_params = [\n",
    "    {\n",
    "        \"model__random_state\": [1],\n",
    "        \"model__max_depth\": [3],\n",
    "        \"model__n_estimators\": [100],\n",
    "        \"model__learning_rate\": [0.1],\n",
    "    }\n",
    "]\n",
    "\n",
    "score, ratio, gs, pipeline = evaluate(model, grid_params)\n",
    "\n",
    "print(f\"MSE: {score:n} / RATIO: {ratio:.4}%\")\n",
    "print(f\"best_params: {gs.best_params_}\")"
   ]
  },
  {
   "cell_type": "markdown",
   "metadata": {},
   "source": [
    "***\n",
    "## Initial\n",
    "\n",
    "MSE: -875275 / RATIO: 19.0%  \n",
    "best_params: {'model__learning_rate': 0.1, 'model__max_depth': 3, 'model__n_estimators': 100, 'model__random_state': 1}  \n",
    "CPU times: user 1min 19s, sys: 2.08 s, total: 1min 21s  \n",
    "Wall time: 7.4 s"
   ]
  },
  {
   "cell_type": "markdown",
   "metadata": {},
   "source": [
    "***\n",
    "# 5 ..."
   ]
  },
  {
   "cell_type": "code",
   "execution_count": null,
   "metadata": {},
   "outputs": [],
   "source": []
  }
 ],
 "metadata": {
  "interpreter": {
   "hash": "586ad1ed5c97141e2437e681efbf1ec0adcd17d830cf5af2ca3d2819e743e158"
  },
  "kernelspec": {
   "display_name": "Python 3.8.11 64-bit ('base': conda)",
   "name": "python3"
  },
  "language_info": {
   "codemirror_mode": {
    "name": "ipython",
    "version": 3
   },
   "file_extension": ".py",
   "mimetype": "text/x-python",
   "name": "python",
   "nbconvert_exporter": "python",
   "pygments_lexer": "ipython3",
   "version": "3.8.11"
  },
  "orig_nbformat": 4
 },
 "nbformat": 4,
 "nbformat_minor": 2
}
