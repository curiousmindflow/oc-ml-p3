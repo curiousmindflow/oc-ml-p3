{
 "cells": [
  {
   "cell_type": "markdown",
   "source": [
    "# 1 Dependency import"
   ],
   "metadata": {}
  },
  {
   "cell_type": "code",
   "execution_count": 65,
   "source": [
    "import numpy as np\n",
    "import pandas as pd\n",
    "import matplotlib.pyplot as plt\n",
    "import seaborn as sns\n",
    "\n",
    "from sklearn.model_selection import train_test_split, cross_val_score, GridSearchCV\n",
    "from sklearn.feature_selection import mutual_info_regression\n",
    "from sklearn.compose import ColumnTransformer\n",
    "from sklearn.pipeline import Pipeline\n",
    "from sklearn.impute import SimpleImputer\n",
    "from sklearn.preprocessing import OneHotEncoder, OrdinalEncoder\n",
    "from sklearn.dummy import DummyRegressor\n",
    "from sklearn.linear_model import LinearRegression\n",
    "from sklearn.svm import SVR\n",
    "from sklearn.tree import DecisionTreeRegressor\n",
    "from sklearn.ensemble import RandomForestRegressor\n",
    "from sklearn.metrics import mean_absolute_error\n",
    "from sklearn import set_config\n",
    "\n",
    "from xgboost import XGBRegressor"
   ],
   "outputs": [],
   "metadata": {}
  },
  {
   "cell_type": "code",
   "execution_count": 66,
   "source": [
    "def evaluate(model, grid_params):\n",
    "    set_config(display=\"diagram\")\n",
    "    # set_config(display=\"text\")\n",
    "\n",
    "    num_pipe = Pipeline(steps=[\n",
    "        (\"simple_imputer\", SimpleImputer(strategy=\"mean\"))\n",
    "    ])\n",
    "\n",
    "    cat_less_unique_pipe = Pipeline(steps=[\n",
    "        (\"simple_imputer\", SimpleImputer(strategy=\"most_frequent\")),\n",
    "        (\"one_hot_encoder\", OneHotEncoder(handle_unknown=\"ignore\"))\n",
    "    ])\n",
    "\n",
    "    cat_lot_unique_pipe = Pipeline(steps=[\n",
    "        (\"simple_imputer\", SimpleImputer(strategy=\"most_frequent\")),\n",
    "        (\"one_hot_encoder\", OneHotEncoder(handle_unknown=\"ignore\"))\n",
    "    ])\n",
    "\n",
    "    preprocessor = ColumnTransformer([\n",
    "        (\"num_pipe\", num_pipe, numerical_cols),\n",
    "        (\"cat_less_unique_pipe\", cat_less_unique_pipe, categorical_cols_less_unique),\n",
    "        (\"cat_lot_unique_pipe\", cat_lot_unique_pipe, categorical_cols_lot_unique)\n",
    "    ])\n",
    "\n",
    "    pipeline = Pipeline([\n",
    "        (\"transforms\", preprocessor),\n",
    "        (\"model\", model)\n",
    "    ])\n",
    "\n",
    "    gs = GridSearchCV(pipeline, grid_params, scoring=\"neg_root_mean_squared_error\").fit(X_train, y_train)\n",
    "\n",
    "    score = gs.score(X_test, y_test)\n",
    "    ratio = (score * 100) / y_test.mean()\n",
    "    ratio = np.abs(ratio)\n",
    "\n",
    "    return score, ratio, gs, pipeline"
   ],
   "outputs": [],
   "metadata": {}
  },
  {
   "cell_type": "code",
   "execution_count": 67,
   "source": [
    "def make_mi_scores(X, y, discrete_features):\n",
    "    mi_scores = mutual_info_regression(X, y, discrete_features=discrete_features)\n",
    "    mi_scores = pd.Series(mi_scores, name=\"MI Scores\", index=X.columns)\n",
    "    mi_scores = mi_scores.sort_values(ascending=False)\n",
    "    return mi_scores"
   ],
   "outputs": [],
   "metadata": {}
  },
  {
   "cell_type": "code",
   "execution_count": 68,
   "source": [
    "def plot_mi_scores(scores):\n",
    "    scores = scores.sort_values(ascending=True)\n",
    "    width = np.arange(len(scores))\n",
    "    ticks = list(scores.index)\n",
    "    plt.barh(width, scores)\n",
    "    plt.yticks(width, ticks)\n",
    "    plt.title(\"Mutual Information Scores\")"
   ],
   "outputs": [],
   "metadata": {}
  },
  {
   "cell_type": "markdown",
   "source": [
    "***\n",
    "# 2 Loading data"
   ],
   "metadata": {}
  },
  {
   "cell_type": "code",
   "execution_count": 69,
   "source": [
    "data = pd.read_csv(\"data/2015-cleaned.csv\", delimiter=\",\")"
   ],
   "outputs": [],
   "metadata": {}
  },
  {
   "cell_type": "code",
   "execution_count": 70,
   "source": [
    "#target = \"GHGEmissionsIntensity(kgCO2e/ft2)\"\n",
    "target = \"SiteEnergyUse(kBtu)\""
   ],
   "outputs": [],
   "metadata": {}
  },
  {
   "cell_type": "code",
   "execution_count": 71,
   "source": [
    "y = data[target]\n",
    "X = data.drop(columns=[target])"
   ],
   "outputs": [],
   "metadata": {}
  },
  {
   "cell_type": "code",
   "execution_count": 72,
   "source": [
    "X_train_full, X_test_full, y_train, y_test = train_test_split(X, y, train_size=0.8, test_size=0.2, random_state=1)"
   ],
   "outputs": [],
   "metadata": {}
  },
  {
   "cell_type": "code",
   "execution_count": 73,
   "source": [
    "categorical_cols_less_unique = [cname for cname in X_train_full.columns if X_train_full[cname].nunique() < 10 and X_train_full[cname].dtype == \"object\"]\n",
    "categorical_cols_lot_unique = [cname for cname in X_train_full.columns if X_train_full[cname].nunique() >= 10 and X_train_full[cname].dtype == \"object\"]\n",
    "numerical_cols = [cname for cname in X_train_full.columns if X_train_full[cname].dtype in ['int64', 'float64']]"
   ],
   "outputs": [],
   "metadata": {}
  },
  {
   "cell_type": "code",
   "execution_count": 74,
   "source": [
    "my_cols = categorical_cols_lot_unique + categorical_cols_less_unique + numerical_cols\n",
    "X_train = X_train_full[my_cols].copy()\n",
    "X_test = X_test_full[my_cols].copy()"
   ],
   "outputs": [],
   "metadata": {}
  },
  {
   "cell_type": "code",
   "execution_count": 11,
   "source": [
    "y_test.describe()"
   ],
   "outputs": [
    {
     "output_type": "execute_result",
     "data": {
      "text/plain": [
       "count    6.660000e+02\n",
       "mean     4.606876e+06\n",
       "std      1.055033e+07\n",
       "min      0.000000e+00\n",
       "25%      8.487488e+05\n",
       "50%      1.619646e+06\n",
       "75%      3.423317e+06\n",
       "max      1.362414e+08\n",
       "Name: SiteEnergyUse(kBtu), dtype: float64"
      ]
     },
     "metadata": {},
     "execution_count": 11
    }
   ],
   "metadata": {}
  },
  {
   "cell_type": "markdown",
   "source": [
    "***\n",
    "# 3 Feature engineering"
   ],
   "metadata": {}
  },
  {
   "cell_type": "markdown",
   "source": [
    "## 3.1 Mutual Information"
   ],
   "metadata": {}
  },
  {
   "cell_type": "code",
   "execution_count": 12,
   "source": [
    "X_MI = X.copy()"
   ],
   "outputs": [],
   "metadata": {}
  },
  {
   "cell_type": "code",
   "execution_count": 13,
   "source": [
    "for col in X_MI.select_dtypes(\"object\"):\n",
    "    X_MI[col], _ = X_MI[col].factorize()"
   ],
   "outputs": [],
   "metadata": {}
  },
  {
   "cell_type": "code",
   "execution_count": 14,
   "source": [
    "discrete_features = X_MI.dtypes == int"
   ],
   "outputs": [],
   "metadata": {}
  },
  {
   "cell_type": "code",
   "execution_count": 15,
   "source": [
    "# make_mi_scores(X_MI, y, discrete_features)"
   ],
   "outputs": [],
   "metadata": {}
  },
  {
   "cell_type": "markdown",
   "source": [
    "***\n",
    "# 4 Modeling"
   ],
   "metadata": {}
  },
  {
   "cell_type": "markdown",
   "source": [
    "***\n",
    "## 4.1 DummyRegressor"
   ],
   "metadata": {}
  },
  {
   "cell_type": "code",
   "execution_count": 36,
   "source": [
    "%%time\n",
    "\n",
    "model = DummyRegressor()\n",
    "\n",
    "grid_params = [\n",
    "    {\n",
    "        \"model__strategy\": [\"mean\", \"median\"]\n",
    "    },\n",
    "    {\n",
    "        \"model__strategy\": [\"quantile\"],\n",
    "        \"model__quantile\": np.arange(0, 1.1, 0.1),\n",
    "    }\n",
    "]\n",
    "\n",
    "score, ratio, gs, pipeline = evaluate(model, grid_params)\n",
    "\n",
    "print(f\"MSE: {score:n} / RATIO: {ratio:.4}%\")\n",
    "print(f\"best_params: {gs.best_params_}\")"
   ],
   "outputs": [
    {
     "output_type": "stream",
     "name": "stdout",
     "text": [
      "MSE: -1.05529e+07 / RATIO: 229.1%\n",
      "best_params: {'model__strategy': 'mean'}\n",
      "CPU times: user 3.88 s, sys: 3.11 ms, total: 3.89 s\n",
      "Wall time: 3.89 s\n"
     ]
    }
   ],
   "metadata": {}
  },
  {
   "cell_type": "markdown",
   "source": [
    "***\n",
    "## 4.2 LinearRegression"
   ],
   "metadata": {}
  },
  {
   "cell_type": "code",
   "execution_count": 37,
   "source": [
    "%%time\n",
    "\n",
    "model = LinearRegression()\n",
    "\n",
    "grid_params = [\n",
    "    {\n",
    "        \"model__fit_intercept\": [True]\n",
    "    }\n",
    "]\n",
    "\n",
    "score, ratio, gs, pipeline = evaluate(model, grid_params)\n",
    "\n",
    "print(f\"MSE: {score:n} / RATIO: {ratio:.4}%\")\n",
    "print(f\"best_params: {gs.best_params_}\")"
   ],
   "outputs": [
    {
     "output_type": "stream",
     "name": "stdout",
     "text": [
      "MSE: -24059 / RATIO: 0.5222%\n",
      "best_params: {'model__fit_intercept': True}\n",
      "CPU times: user 2.44 s, sys: 56.5 ms, total: 2.5 s\n",
      "Wall time: 664 ms\n"
     ]
    }
   ],
   "metadata": {}
  },
  {
   "cell_type": "markdown",
   "source": [
    "***\n",
    "## 4.3 SupportVectorRegression"
   ],
   "metadata": {}
  },
  {
   "cell_type": "code",
   "execution_count": 33,
   "source": [
    "%%time\n",
    "\n",
    "model = SVR()\n",
    "\n",
    "grid_params = [\n",
    "    {\n",
    "        \"model__kernel\": [\"rbf\"],\n",
    "        \"model__degree\": [3],\n",
    "        \"model__gamma\": [\"scale\"]\n",
    "    }\n",
    "]\n",
    "\n",
    "score, ratio, gs, pipeline = evaluate(model, grid_params)\n",
    "\n",
    "print(f\"MSE: {score:n} / RATIO: {ratio:.4}%\")\n",
    "print(f\"best_params: {gs.best_params_}\")"
   ],
   "outputs": [
    {
     "output_type": "stream",
     "name": "stdout",
     "text": [
      "MSE: -1.09036e+07 / RATIO: 236.7\n",
      "best_params: {'model__degree': 3, 'model__gamma': 'scale', 'model__kernel': 'rbf'}\n",
      "CPU times: user 4.34 s, sys: 43.4 ms, total: 4.39 s\n",
      "Wall time: 4.41 s\n"
     ]
    }
   ],
   "metadata": {}
  },
  {
   "cell_type": "markdown",
   "source": [
    "***\n",
    "## 4.4 DecisionTreeRegressor"
   ],
   "metadata": {}
  },
  {
   "cell_type": "code",
   "execution_count": 34,
   "source": [
    "%%time\n",
    "\n",
    "model = DecisionTreeRegressor()\n",
    "\n",
    "grid_params = [\n",
    "    {\n",
    "        \"model__random_state\": [1],\n",
    "        \"model__max_depth\": [2, 3, 4],\n",
    "        \"model__min_samples_leaf\": range(1, 11, 1),\n",
    "        \"model__criterion\": [\"mse\"]\n",
    "    }\n",
    "]\n",
    "\n",
    "score, ratio, gs, pipeline = evaluate(model, grid_params)\n",
    "\n",
    "print(f\"MSE: {score:n} / RATIO: {ratio:.4}%\")\n",
    "print(f\"best_params: {gs.best_params_}\")"
   ],
   "outputs": [
    {
     "output_type": "stream",
     "name": "stdout",
     "text": [
      "MSE: -3.01481e+06 / RATIO: 65.44\n",
      "best_params: {'model__criterion': 'mse', 'model__max_depth': 4, 'model__min_samples_leaf': 2, 'model__random_state': 1}\n",
      "CPU times: user 10.2 s, sys: 209 ms, total: 10.4 s\n",
      "Wall time: 10.4 s\n"
     ]
    }
   ],
   "metadata": {}
  },
  {
   "cell_type": "markdown",
   "source": [
    "***\n",
    "## 4.5 RandomForestRegressor"
   ],
   "metadata": {}
  },
  {
   "cell_type": "code",
   "execution_count": 35,
   "source": [
    "%%time\n",
    "\n",
    "model = RandomForestRegressor()\n",
    "\n",
    "grid_params = [\n",
    "    {\n",
    "        \"model__random_state\": [1],\n",
    "        \"model__n_estimators\": [25],\n",
    "        \"model__min_samples_leaf\": [1],\n",
    "        \"model__criterion\": [\"mse\"]\n",
    "    }\n",
    "]\n",
    "\n",
    "score, ratio, gs, pipeline = evaluate(model, grid_params)\n",
    "\n",
    "print(f\"MSE: {score:n} / RATIO: {ratio:.4}%\")\n",
    "print(f\"best_params: {gs.best_params_}\")"
   ],
   "outputs": [
    {
     "output_type": "stream",
     "name": "stdout",
     "text": [
      "MSE: -964594 / RATIO: 20.94\n",
      "best_params: {'model__criterion': 'mse', 'model__min_samples_leaf': 1, 'model__n_estimators': 25, 'model__random_state': 1}\n",
      "CPU times: user 33.9 s, sys: 2.47 ms, total: 33.9 s\n",
      "Wall time: 33.9 s\n"
     ]
    }
   ],
   "metadata": {}
  },
  {
   "cell_type": "markdown",
   "source": [
    "***\n",
    "## 4.6 XGBRegressor"
   ],
   "metadata": {}
  },
  {
   "cell_type": "code",
   "execution_count": 78,
   "source": [
    "%%time\n",
    "\n",
    "model = XGBRegressor()\n",
    "\n",
    "grid_params = [\n",
    "    {\n",
    "        \"model__random_state\": [1],\n",
    "        \"model__max_depth\": [3],\n",
    "        \"model__n_estimators\": [100],\n",
    "        \"model__learning_rate\": [0.1],\n",
    "    }\n",
    "]\n",
    "\n",
    "score, ratio, gs, pipeline = evaluate(model, grid_params)\n",
    "\n",
    "print(f\"MSE: {score:n} / RATIO: {ratio:.4}%\")\n",
    "print(f\"best_params: {gs.best_params_}\")"
   ],
   "outputs": [
    {
     "output_type": "stream",
     "name": "stdout",
     "text": [
      "MSE: -875275 / RATIO: 19.0%\n",
      "best_params: {'model__learning_rate': 0.1, 'model__max_depth': 3, 'model__n_estimators': 100, 'model__random_state': 1}\n",
      "CPU times: user 1min 50s, sys: 2.57 s, total: 1min 52s\n",
      "Wall time: 10.4 s\n"
     ]
    }
   ],
   "metadata": {}
  },
  {
   "cell_type": "markdown",
   "source": [
    "***\n",
    "# 5 ..."
   ],
   "metadata": {}
  }
 ],
 "metadata": {
  "orig_nbformat": 4,
  "language_info": {
   "name": "python",
   "version": "3.8.11",
   "mimetype": "text/x-python",
   "codemirror_mode": {
    "name": "ipython",
    "version": 3
   },
   "pygments_lexer": "ipython3",
   "nbconvert_exporter": "python",
   "file_extension": ".py"
  },
  "kernelspec": {
   "name": "python3",
   "display_name": "Python 3.8.11 64-bit ('base': conda)"
  },
  "interpreter": {
   "hash": "f50bd5474255f82aa829301912ce59e29110123be660cf8d7583f66a20371684"
  }
 },
 "nbformat": 4,
 "nbformat_minor": 2
}